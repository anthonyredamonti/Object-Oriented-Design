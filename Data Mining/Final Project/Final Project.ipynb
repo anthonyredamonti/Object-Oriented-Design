{
 "cells": [
  {
   "cell_type": "markdown",
   "id": "aa714131",
   "metadata": {},
   "source": []
  },
  {
   "cell_type": "markdown",
   "id": "cb4ee8e5",
   "metadata": {},
   "source": [
    "# Final Project\n",
    "---------------------------------------------------------------------\n",
    "## CIS 600 Fundamental Data & Knowledge Mining\n",
    "## Prof. Ying Lin\n",
    "## 11/8/2022\n",
    "\n",
    "### Anthony Redamonti, Dana Dippery, Joshua, Hal Baird\n",
    "### Syracuse University"
   ]
  },
  {
   "cell_type": "markdown",
   "id": "1347422b",
   "metadata": {},
   "source": [
    "### Introduction \n",
    "The following project was implemented in Jupyter Notebooks using Anaconda 3 with Python 3 (ipykernel). The goal of the project is below.\n",
    "\n",
    "Analyze the dataset provided in the file \"SMSSpamCollection.\"\n",
    "- Data Preparation & EDA\n",
    "- Build, Tune, and Evaluate Decision Tree Models\n",
    "\n",
    "Apply the classification models on the test dataset.\n",
    "- Model Prediction"
   ]
  },
  {
   "cell_type": "markdown",
   "id": "e6b4189a",
   "metadata": {},
   "source": [
    "### Section 1: Data Preparation\n",
    "- The data must be split into different dataframes:\n",
    "    - Dataframe containing all Spam messages.\n",
    "    - Dataframe containing all Ham messages.\n",
    "    - Dataframe containing all Ham and Spam messages.\n",
    "    - Dataframe containing the summarized data of Ham and Spam (two entries)."
   ]
  },
  {
   "cell_type": "code",
   "execution_count": 1,
   "id": "386d8b69",
   "metadata": {
    "scrolled": true
   },
   "outputs": [
    {
     "name": "stderr",
     "output_type": "stream",
     "text": [
      "[nltk_data] Downloading package punkt to\n",
      "[nltk_data]     C:\\Users\\aredamonti\\AppData\\Roaming\\nltk_data...\n",
      "[nltk_data]   Package punkt is already up-to-date!\n",
      "[nltk_data] Downloading package stopwords to\n",
      "[nltk_data]     C:\\Users\\aredamonti\\AppData\\Roaming\\nltk_data...\n",
      "[nltk_data]   Package stopwords is already up-to-date!\n",
      "[nltk_data] Downloading package wordnet to\n",
      "[nltk_data]     C:\\Users\\aredamonti\\AppData\\Roaming\\nltk_data...\n",
      "[nltk_data]   Package wordnet is already up-to-date!\n",
      "[nltk_data] Downloading package omw-1.4 to\n",
      "[nltk_data]     C:\\Users\\aredamonti\\AppData\\Roaming\\nltk_data...\n"
     ]
    },
    {
     "name": "stdout",
     "output_type": "stream",
     "text": [
      "  label                                            message\n",
      "0   ham  Go until jurong point, crazy.. Available only ...\n",
      "1   ham                      Ok lar... Joking wif u oni...\n",
      "2  spam  Free entry in 2 a wkly comp to win FA Cup fina...\n",
      "3   ham  U dun say so early hor... U c already then say...\n",
      "4   ham  Nah I don't think he goes to usf, he lives aro...\n"
     ]
    },
    {
     "name": "stderr",
     "output_type": "stream",
     "text": [
      "[nltk_data]   Package omw-1.4 is already up-to-date!\n"
     ]
    }
   ],
   "source": [
    "import random\n",
    "import nltk\n",
    "import pandas as pd\n",
    "from nltk.tokenize import word_tokenize\n",
    "from nltk.corpus import stopwords\n",
    "from nltk.stem.porter import PorterStemmer\n",
    "from nltk.stem import WordNetLemmatizer\n",
    "from sklearn.model_selection import train_test_split\n",
    "\n",
    "import nltk\n",
    "nltk.download('punkt')\n",
    "nltk.download('stopwords')\n",
    "nltk.download('wordnet')\n",
    "nltk.download('omw-1.4')\n",
    "\n",
    "data = pd.read_csv(\"SMSSpamCollection\", sep=\"\\t\", names=[\"label\", \"message\"])\n",
    "print(data.head())"
   ]
  },
  {
   "cell_type": "code",
   "execution_count": 2,
   "id": "f56e3454",
   "metadata": {},
   "outputs": [],
   "source": [
    "stemmer = PorterStemmer()\n",
    "wordnet_lemmatizer = WordNetLemmatizer()"
   ]
  },
  {
   "cell_type": "code",
   "execution_count": 3,
   "id": "961d2ed7",
   "metadata": {},
   "outputs": [],
   "source": [
    "def preprocess(document, stem=True):\n",
    "    document = document.lower()\n",
    "    words = word_tokenize(document)\n",
    "    words = [word for word in words if word not in stopwords.words(\"english\")]\n",
    "    if stem:\n",
    "        words = [stemmer.stem(word) for word in words]\n",
    "    else:\n",
    "        words = [wordnet_lemmatizer.lemmatize(word, pos='v') for word in words]\n",
    "    return words"
   ]
  },
  {
   "cell_type": "code",
   "execution_count": 4,
   "id": "1d68c98f",
   "metadata": {},
   "outputs": [],
   "source": [
    "message_set = list()\n",
    "# for row in data.iterrows(): # this doesn't work right?!\n",
    "for i in range(len(data)):\n",
    "    label = data.iloc[i][0]\n",
    "    message = data.iloc[i][1]\n",
    "    words_filtered = [e.lower() for e in preprocess(message, stem=False) if len(e) >= 3]\n",
    "    message_set.append([words_filtered, label])"
   ]
  },
  {
   "cell_type": "markdown",
   "id": "0e3a8482",
   "metadata": {},
   "source": [
    "# Feature Creation"
   ]
  },
  {
   "cell_type": "code",
   "execution_count": 5,
   "id": "e8bb39f0",
   "metadata": {},
   "outputs": [],
   "source": [
    "def get_words_in_messages(messages_and_labels):\n",
    "    all_words = list()\n",
    "    for (message, label) in messages_and_labels:\n",
    "        for word in message:\n",
    "            all_words.append(word)\n",
    "    return all_words"
   ]
  },
  {
   "cell_type": "code",
   "execution_count": 6,
   "id": "4820efc0",
   "metadata": {},
   "outputs": [],
   "source": [
    "def get_word_features(word_list):\n",
    "    word_list = nltk.FreqDist(word_list)\n",
    "    word_features = word_list.keys()\n",
    "    return word_features"
   ]
  },
  {
   "cell_type": "code",
   "execution_count": 7,
   "id": "b1ba7ef4",
   "metadata": {},
   "outputs": [],
   "source": [
    "def get_labels(messages_and_labels):\n",
    "    all_labels = list()\n",
    "    for (message, label) in messages_and_labels:\n",
    "        all_labels.append(label)\n",
    "    return all_labels"
   ]
  },
  {
   "cell_type": "code",
   "execution_count": 8,
   "id": "01a24a8b",
   "metadata": {},
   "outputs": [],
   "source": [
    "def get_messages(messages_and_labels):\n",
    "    all_message = list()\n",
    "    for (message, label) in messages_and_labels:\n",
    "        all_message.append(message)\n",
    "    return all_message"
   ]
  },
  {
   "cell_type": "code",
   "execution_count": 9,
   "id": "abb73cdb",
   "metadata": {},
   "outputs": [
    {
     "name": "stdout",
     "output_type": "stream",
     "text": [
      "8003\n"
     ]
    }
   ],
   "source": [
    "word_features = get_word_features(get_words_in_messages(message_set))\n",
    "labels = get_labels(message_set)\n",
    "messages = get_messages(message_set)\n",
    "print(len(word_features))"
   ]
  },
  {
   "cell_type": "markdown",
   "id": "4936f990",
   "metadata": {},
   "source": [
    "# Training and Testing"
   ]
  },
  {
   "cell_type": "code",
   "execution_count": 10,
   "id": "f3ad2767",
   "metadata": {},
   "outputs": [],
   "source": [
    "def extract_features(document):\n",
    "    document_words = set(document)\n",
    "    features = {}\n",
    "    for word in word_features:\n",
    "        features[word] = (word in document_words)\n",
    "    return features"
   ]
  },
  {
   "cell_type": "code",
   "execution_count": 11,
   "id": "9cb7377a",
   "metadata": {},
   "outputs": [],
   "source": [
    "import pandas as pd\n",
    "from vaderSentiment.vaderSentiment import SentimentIntensityAnalyzer\n",
    "analyser = SentimentIntensityAnalyzer()"
   ]
  },
  {
   "cell_type": "code",
   "execution_count": 12,
   "id": "7ab0a2ee",
   "metadata": {},
   "outputs": [],
   "source": [
    "scores =[]\n",
    "sentences = data['message']\n",
    "\n",
    "for sentence in sentences:\n",
    "    score = analyser.polarity_scores(sentence)\n",
    "    scores.append(score)"
   ]
  },
  {
   "cell_type": "code",
   "execution_count": 13,
   "id": "130ce7ac",
   "metadata": {},
   "outputs": [
    {
     "name": "stdout",
     "output_type": "stream",
     "text": [
      "Index(['neg', 'neu', 'pos', 'compound'], dtype='object')\n"
     ]
    }
   ],
   "source": [
    "#Converting List of Dictionaries into Dataframe\n",
    "scoresDf= pd.DataFrame(scores)\n",
    "print(scoresDf.columns)"
   ]
  },
  {
   "cell_type": "code",
   "execution_count": 14,
   "id": "6249104c",
   "metadata": {},
   "outputs": [],
   "source": [
    "# df = pd.DataFrame(message_set, columns=[\"Message\", \"Label\"])\n",
    "df = pd.concat([pd.Series(messages), pd.Series(labels), pd.Series(scoresDf['neg']), pd.Series(scoresDf['pos']), pd.Series(scoresDf['neu']), pd.Series(scoresDf['compound'])], axis=1)\n",
    "X_train, X_test, y_train, y_test = train_test_split(df[0], df[1], test_size=0.33, random_state=42)\n",
    "\n",
    "train_set_labeled = list()\n",
    "for i in range(len(X_train)):\n",
    "    train_set_labeled.append((X_train.iloc[i], y_train.iloc[i]))\n",
    "\n",
    "test_set_labeled = list()\n",
    "for i in range(len(X_test)):\n",
    "    test_set_labeled.append((X_test.iloc[i], y_test.iloc[i]))"
   ]
  },
  {
   "cell_type": "code",
   "execution_count": 15,
   "id": "3973de36",
   "metadata": {},
   "outputs": [],
   "source": [
    "training_set = nltk.classify.apply_features(extract_features, train_set_labeled, labeled=True)\n",
    "testing_set = nltk.classify.apply_features(extract_features, test_set_labeled, labeled=True)"
   ]
  },
  {
   "cell_type": "code",
   "execution_count": 16,
   "id": "3ff257cb",
   "metadata": {},
   "outputs": [],
   "source": [
    "spam_classifier = nltk.NaiveBayesClassifier.train(training_set)"
   ]
  },
  {
   "cell_type": "code",
   "execution_count": 17,
   "id": "c98058b5",
   "metadata": {},
   "outputs": [
    {
     "name": "stdout",
     "output_type": "stream",
     "text": [
      "0.990356281810876\n",
      "0.9858618814573138\n"
     ]
    }
   ],
   "source": [
    "print(nltk.classify.accuracy(spam_classifier, training_set))\n",
    "print(nltk.classify.accuracy(spam_classifier, testing_set))"
   ]
  }
 ],
 "metadata": {
  "kernelspec": {
   "display_name": "Python 3 (ipykernel)",
   "language": "python",
   "name": "python3"
  },
  "language_info": {
   "codemirror_mode": {
    "name": "ipython",
    "version": 3
   },
   "file_extension": ".py",
   "mimetype": "text/x-python",
   "name": "python",
   "nbconvert_exporter": "python",
   "pygments_lexer": "ipython3",
   "version": "3.9.12"
  }
 },
 "nbformat": 4,
 "nbformat_minor": 5
}
