{
 "cells": [
  {
   "cell_type": "markdown",
   "id": "e9a2d3e0",
   "metadata": {},
   "source": [
    "# Homework 2\n",
    "---------------------------------------------------------------------\n",
    "## CIS 600 Fundamental Data & Knowledge Mining\n",
    "## Prof. Ying Lin\n",
    "## 11/7/2022\n",
    "\n",
    "### Anthony Redamonti\n",
    "### Syracuse University"
   ]
  },
  {
   "cell_type": "markdown",
   "id": "c5c8216a",
   "metadata": {},
   "source": [
    "### Introduction \n",
    "The following project was implemented in Jupyter Notebooks using Anaconda 3 with Python 3 (ipykernel). The goal of the project is below.\n",
    "\n",
    "Analyze the dataset provided in the file \"Weather Forcast Training.csv.\"\n",
    "- Data Preparation & EDA\n",
    "- Build, Tune, and Evaluate Decision Tree Models\n",
    "\n",
    "Apply the classification models on the test dataset \"Weather Forcast Testing.csv.\"\n",
    "- Model Prediction"
   ]
  },
  {
   "cell_type": "markdown",
   "id": "82ed3cbf",
   "metadata": {},
   "source": [
    "### Section 1: Data Preparation & EDA\n",
    "- Handle Outliers\n",
    "- Remove Duplicate Entries\n",
    "- Replace Entries with Missing Data\n",
    "- Replace Yes/No with 1/0.\n",
    "- EDA: Heatmap"
   ]
  },
  {
   "cell_type": "code",
   "execution_count": 9,
   "id": "e1f141ca",
   "metadata": {},
   "outputs": [
    {
     "name": "stdout",
     "output_type": "stream",
     "text": [
      "(Rows, Columns):  (51978, 16)\n"
     ]
    }
   ],
   "source": [
    "import pandas as pd\n",
    "import numpy as np\n",
    "import seaborn as sbn\n",
    "import matplotlib.pyplot as mtpltlib\n",
    "\n",
    "trainingData = pd.read_csv('Weather Forecast Training.csv')\n",
    "\n",
    "print(\"(Rows, Columns): \", trainingData.shape)"
   ]
  },
  {
   "cell_type": "markdown",
   "id": "3e84f25d",
   "metadata": {},
   "source": [
    "#### Section 1.1: Handle Outliers\n",
    "\n",
    "Certain features must be checked for outliers. \n",
    "\n",
    "An outlier will be defined in the following manner:\n",
    "- The IQR must be found. The IQR is defined as the difference between the 75th and 25th percentiles of the data.\n",
    "- Once the IQR is found, it is used to find the upper and lower thresholds that will be used to find outliers.\n",
    "- The upper threshold is: 75th percentile + (1.5 * IQR)\n",
    "- The lower threshold is: 25th percentile - (1.5 * IQR)\n",
    "\n",
    "Find the total number of entries that contain outliers in the dataset. First, the following numeric ratio features will be checked for outliers: \n",
    "- MinTemp, MaxTemp, Rainfall, Evaporation, Sunshine, WindGustSpeed, WindSpeed, Humidity, Pressure, and Temp."
   ]
  },
  {
   "cell_type": "code",
   "execution_count": 10,
   "id": "646d7c4d",
   "metadata": {},
   "outputs": [
    {
     "name": "stdout",
     "output_type": "stream",
     "text": [
      "Percentage of Outliers: 20.39%\n"
     ]
    }
   ],
   "source": [
    "# Function that returns the indices of all the outliers in the dataset.\n",
    "# Arguments are the dataset and a list of features.\n",
    "def findOutlierIndexList(dataframe, inputFeatureList):\n",
    "    \n",
    "    outlierList = []\n",
    "    \n",
    "    for feature in inputFeatureList:\n",
    "        quantile1 = dataframe[feature].quantile(0.25)\n",
    "        quantile3 = dataframe[feature].quantile(0.75)\n",
    "        interquartileRange = quantile3 - quantile1\n",
    "        lowerThreshhold = quantile1 - (1.5 * interquartileRange)\n",
    "        upperThreshhold = quantile3 + (1.5 * interquartileRange)\n",
    "        \n",
    "        index = 0\n",
    "        \n",
    "        # search the feature for outliers\n",
    "        while(index < len(dataframe) - 1):\n",
    "            value = dataframe._get_value(index, feature)\n",
    "            if((value < lowerThreshhold) or (value > upperThreshhold)):\n",
    "                outlierList.append(index)\n",
    "            index = index + 1\n",
    "                \n",
    "    # remove repeating indices.\n",
    "    outlierList = sorted(set(outlierList))\n",
    "    return outlierList\n",
    "\n",
    "# Define a list of numeric ratio features that may have outliers. \n",
    "featureList = ['MinTemp', 'MaxTemp', 'Rainfall', 'Evaporation', 'Sunshine', 'WindGustSpeed', 'WindSpeed', 'Humidity',\n",
    "              'Pressure', 'Temp']\n",
    "\n",
    "# Find the total number of outliers in the dataset.\n",
    "outlierIndexList = findOutlierIndexList(trainingData, featureList)\n",
    "totalNumberOfOutliers = len(outlierIndexList)\n",
    "print(\"Percentage of Outliers:\", '{:.2%}'.format(totalNumberOfOutliers / len(trainingData)))"
   ]
  },
  {
   "cell_type": "markdown",
   "id": "83af726a",
   "metadata": {},
   "source": [
    "#### 20.39% of the entries in the numeric ratio features contain outliers. \n",
    "- Because there is a high percentage of entries containing outliers, they cannot simply be removed from the dataset."
   ]
  },
  {
   "cell_type": "markdown",
   "id": "1c6d6916",
   "metadata": {},
   "source": [
    "#### The outliers will be clipped so that they will fall within the range of acceptable values. \n",
    "- Any value greater than the upper threshold will be set equal to the upper threshold.\n",
    "- Any value less than the lower threshold will be set equal to the lower threshold.\n",
    "- The upper threshold is: 75th percentile + (1.5 * IQR)\n",
    "- The lower threshold is: 25th percentile - (1.5 * IQR)"
   ]
  },
  {
   "cell_type": "code",
   "execution_count": 11,
   "id": "62075966",
   "metadata": {},
   "outputs": [
    {
     "name": "stdout",
     "output_type": "stream",
     "text": [
      "Total number of outliers found after clipping:  0\n"
     ]
    }
   ],
   "source": [
    "# Function that clips the value of outliers in the dataset.\n",
    "# Arguments are the original dataset and a list of selected features.\n",
    "def clipOutliers(dataframe, inputFeatureList):\n",
    "    for feature in inputFeatureList:\n",
    "        quantile1 = dataframe[feature].quantile(0.25)\n",
    "        quantile3 = dataframe[feature].quantile(0.75)\n",
    "        interquartileRange = quantile3 - quantile1\n",
    "        lowerThreshhold = quantile1 - (1.5 * interquartileRange)\n",
    "        upperThreshhold = quantile3 + (1.5 * interquartileRange)\n",
    "        index = 0\n",
    "    \n",
    "        # search the feature for outliers\n",
    "        while(index < len(dataframe) - 1):\n",
    "            value = dataframe._get_value(index, feature)\n",
    "            if(value < lowerThreshhold):\n",
    "                dataframe._set_value(index, feature, lowerThreshhold)            \n",
    "            if(value > upperThreshhold):\n",
    "                dataframe._set_value(index, feature, upperThreshhold)            \n",
    "            index = index + 1 \n",
    "\n",
    "# clip the values of the outliers.\n",
    "clipOutliers(trainingData, featureList)\n",
    "\n",
    "# Find the total number of outliers in the dataset.\n",
    "print(\"Total number of outliers found after clipping: \", len(findOutlierIndexList(trainingData, featureList)))"
   ]
  },
  {
   "cell_type": "markdown",
   "id": "6cd1ef3b",
   "metadata": {},
   "source": [
    "#### Section 1.2: Remove Duplicate Entries\n",
    "\n",
    "The duplicate entries will be removed from the dataset."
   ]
  },
  {
   "cell_type": "code",
   "execution_count": 12,
   "id": "0ac29da9",
   "metadata": {},
   "outputs": [
    {
     "name": "stdout",
     "output_type": "stream",
     "text": [
      "Number of duplicate entries dropped: 19\n"
     ]
    }
   ],
   "source": [
    "originalLength = len(trainingData)\n",
    "\n",
    "# drop all duplicate entries.\n",
    "trainingData.drop_duplicates(inplace = True)\n",
    "\n",
    "newLength = len(trainingData)\n",
    "print(\"Number of duplicate entries dropped:\", originalLength - newLength)"
   ]
  },
  {
   "cell_type": "markdown",
   "id": "08f38874",
   "metadata": {},
   "source": [
    "#### Section 1.3: Replace Entries with Missing Data\n",
    "- The summary below displays the total number of NULL entries for each feature."
   ]
  },
  {
   "cell_type": "code",
   "execution_count": 13,
   "id": "c1015fc9",
   "metadata": {
    "scrolled": true
   },
   "outputs": [
    {
     "data": {
      "text/plain": [
       "Location             0\n",
       "MinTemp            268\n",
       "MaxTemp            116\n",
       "Rainfall           745\n",
       "Evaporation      22534\n",
       "Sunshine         24856\n",
       "WindGustDir       3579\n",
       "WindGustSpeed     3552\n",
       "WindDir           1494\n",
       "WindSpeed         1005\n",
       "Humidity          1410\n",
       "Pressure          5047\n",
       "Cloud            20111\n",
       "Temp              1044\n",
       "RainToday          745\n",
       "RainTomorrow         0\n",
       "dtype: int64"
      ]
     },
     "execution_count": 13,
     "metadata": {},
     "output_type": "execute_result"
    }
   ],
   "source": [
    "trainingData.isnull().sum()"
   ]
  },
  {
   "cell_type": "code",
   "execution_count": 14,
   "id": "d7b9078c",
   "metadata": {},
   "outputs": [
    {
     "name": "stdout",
     "output_type": "stream",
     "text": [
      "Percentage of entries with missing data: 59.42%\n"
     ]
    }
   ],
   "source": [
    "print(\"Percentage of entries with missing data:\", '{:.2%}'.format((trainingData.isnull().sum(axis = 1) > 0).sum() / len(trainingData)))"
   ]
  },
  {
   "cell_type": "markdown",
   "id": "9784475b",
   "metadata": {},
   "source": [
    "#### 59.42% of the entries in the training dataset are incomplete. \n",
    "- The following attributes have a high number of missing entries: Evaporation, Sunshine, and Cloud."
   ]
  },
  {
   "cell_type": "code",
   "execution_count": 15,
   "id": "de4a4381",
   "metadata": {},
   "outputs": [
    {
     "name": "stdout",
     "output_type": "stream",
     "text": [
      "Percentage of Evaporation entries with missing data: 43.37%\n",
      "Percentage of Sunshine entries with missing data: 47.84%\n",
      "Percentage of Cloud entries with missing data: 38.71%\n"
     ]
    }
   ],
   "source": [
    "print(\"Percentage of Evaporation entries with missing data:\", '{:.2%}'.format(trainingData['Evaporation'].isnull().sum() / len(trainingData)))\n",
    "print(\"Percentage of Sunshine entries with missing data:\", '{:.2%}'.format(trainingData['Sunshine'].isnull().sum() / len(trainingData)))\n",
    "print(\"Percentage of Cloud entries with missing data:\", '{:.2%}'.format(trainingData['Cloud'].isnull().sum() / len(trainingData)))"
   ]
  },
  {
   "cell_type": "markdown",
   "id": "5ef708ae",
   "metadata": {},
   "source": [
    "Because of their high percentage of NULL entries, these three features will be removed from the dataset."
   ]
  },
  {
   "cell_type": "code",
   "execution_count": 16,
   "id": "910b4cc8",
   "metadata": {},
   "outputs": [
    {
     "name": "stdout",
     "output_type": "stream",
     "text": [
      "Percentage of entries with missing data: 16.69%\n"
     ]
    }
   ],
   "source": [
    "trainingData.drop('Evaporation', inplace = True, axis = 1)\n",
    "trainingData.drop('Sunshine', inplace = True, axis = 1)\n",
    "trainingData.drop('Cloud', inplace = True, axis = 1)\n",
    "\n",
    "print(\"Percentage of entries with missing data:\", '{:.2%}'.format((trainingData.isnull().sum(axis = 1) > 0).sum() / len(trainingData)))"
   ]
  },
  {
   "cell_type": "markdown",
   "id": "afa9c4bf",
   "metadata": {},
   "source": [
    "#### After removing the above features, 16.69% of the entries in the training dataset remain incomplete. "
   ]
  },
  {
   "cell_type": "markdown",
   "id": "36a22740",
   "metadata": {},
   "source": [
    "##### NULL values will be handled based on the data type of the feature.\n",
    "- Ratio Numeric: NULL values will be replaced by the forward fill (ffill) value.\n",
    "    - It makes sense to replace NULL values with the next entry's value (forward fill). While all of the outliers have been removed, the numeric ratio data remains diverse. Ffill is independent of the range of values of a numeric feature.\n",
    "    \n",
    "- Non-Ratio Numeric (except RainTomorrow): NULL values will be replaced by the most common entry in the feature.\n",
    "    - A common method of replacing NULL values of nominal, categorical, and other feature types is using the most commonly used element."
   ]
  },
  {
   "cell_type": "markdown",
   "id": "724e0492",
   "metadata": {},
   "source": [
    "##### Numeric Ratio Features: Replace NULL Using Ffill\n",
    "\n",
    "- The function below \"replaceNaWithFfill\" replaces all NULL values of each feature in the feature list with the next entry's value. \n",
    "- The arguments are the dataset and a list of features to search."
   ]
  },
  {
   "cell_type": "code",
   "execution_count": 17,
   "id": "b4efe426",
   "metadata": {},
   "outputs": [],
   "source": [
    "def replaceNaWithFfill(dataframe, inputFeatureList):\n",
    "    for feature in inputFeatureList:\n",
    "        dataframe[feature] = dataframe[feature].fillna(method = 'ffill')\n",
    "        \n",
    "# Define a list of numeric ratio features that may have outliers. \n",
    "numRatioFeatureListNa = ['MinTemp', 'MaxTemp', 'Rainfall', 'WindGustSpeed', 'WindSpeed', 'Humidity',\n",
    "              'Pressure', 'Temp']\n",
    "\n",
    "replaceNaWithFfill(trainingData, numRatioFeatureListNa)"
   ]
  },
  {
   "cell_type": "code",
   "execution_count": 18,
   "id": "1f59d1bd",
   "metadata": {
    "scrolled": false
   },
   "outputs": [
    {
     "data": {
      "text/plain": [
       "Location            0\n",
       "MinTemp             0\n",
       "MaxTemp             0\n",
       "Rainfall            0\n",
       "WindGustDir      3579\n",
       "WindGustSpeed       0\n",
       "WindDir          1494\n",
       "WindSpeed           0\n",
       "Humidity            0\n",
       "Pressure            0\n",
       "Temp                0\n",
       "RainToday         745\n",
       "RainTomorrow        0\n",
       "dtype: int64"
      ]
     },
     "execution_count": 18,
     "metadata": {},
     "output_type": "execute_result"
    }
   ],
   "source": [
    "trainingData.isnull().sum()"
   ]
  },
  {
   "cell_type": "markdown",
   "id": "b943e99f",
   "metadata": {},
   "source": [
    "The number of NULL entries for the numeric ratio features is now zero."
   ]
  },
  {
   "cell_type": "markdown",
   "id": "fe02ee8d",
   "metadata": {},
   "source": [
    "##### Nominal and Ordinal Features: Replace NULL Using the Most Common Value\n",
    "The function below \"replaceNaWithMCV\" replaces all NULL values of each feature in the feature list with the most common value in the feature. The arguments are the dataset and a list of features to search."
   ]
  },
  {
   "cell_type": "code",
   "execution_count": 19,
   "id": "80bc3114",
   "metadata": {},
   "outputs": [],
   "source": [
    "# Function that replaces the NULL values in the dataset with the most common occurring value of the feature.\n",
    "# Arguments are the original dataset and a list of selected features.\n",
    "def replaceNaWithMCV(dataframe, inputFeatureList):\n",
    "    for feature in inputFeatureList:\n",
    "        mostCommonValue = dataframe[feature].value_counts().idxmax()\n",
    "        dataframe[feature] = dataframe[feature].fillna(mostCommonValue)\n",
    "        \n",
    "# Define a list of non-numeric features that may have outliers. \n",
    "nonRatioList = ['WindGustDir', 'WindDir', 'RainToday']\n",
    "\n",
    "replaceNaWithMCV(trainingData, nonRatioList)"
   ]
  },
  {
   "cell_type": "code",
   "execution_count": 20,
   "id": "1b58c861",
   "metadata": {
    "scrolled": true
   },
   "outputs": [
    {
     "data": {
      "text/plain": [
       "Location         0\n",
       "MinTemp          0\n",
       "MaxTemp          0\n",
       "Rainfall         0\n",
       "WindGustDir      0\n",
       "WindGustSpeed    0\n",
       "WindDir          0\n",
       "WindSpeed        0\n",
       "Humidity         0\n",
       "Pressure         0\n",
       "Temp             0\n",
       "RainToday        0\n",
       "RainTomorrow     0\n",
       "dtype: int64"
      ]
     },
     "execution_count": 20,
     "metadata": {},
     "output_type": "execute_result"
    }
   ],
   "source": [
    "trainingData.isnull().sum()"
   ]
  },
  {
   "cell_type": "markdown",
   "id": "d60d6d22",
   "metadata": {},
   "source": [
    "- All of the NULL entries in the non-numeric ratio features have been replaced by the most commonly occurring value.\n",
    "- As shown in the above list, all of the NULL entries have been handled in each feature in the dataset. "
   ]
  },
  {
   "cell_type": "markdown",
   "id": "4d94446b",
   "metadata": {},
   "source": [
    "#### Section 1.4: Replace Yes/No with 1/0\n",
    "- Boolean features that are in Yes/No format will be transformed to 1/0 numeric format for future decision tree building."
   ]
  },
  {
   "cell_type": "code",
   "execution_count": 21,
   "id": "86b8ef19",
   "metadata": {},
   "outputs": [],
   "source": [
    "trainingData['RainToday'] = trainingData['RainToday'].replace(\"No\", 0)\n",
    "trainingData['RainToday'] = trainingData['RainToday'].replace(\"Yes\", 1)\n",
    "trainingData['RainTomorrow'] = trainingData['RainTomorrow'].replace(\"No\", 0)\n",
    "trainingData['RainTomorrow'] = trainingData['RainTomorrow'].replace(\"Yes\", 1)"
   ]
  },
  {
   "cell_type": "markdown",
   "id": "fb9cfb16",
   "metadata": {},
   "source": [
    "#### Section 1.5: One-hot Encoding\n",
    "- \"WindDir\" and \"WindGustDir\" need to be transformed using one-hot encoding.\n",
    "- After the one-hot encoded columns are added to the dataset, the original feature columns \"WindDir\" and \"WindGustDir\" will be removed as they are no longer needed."
   ]
  },
  {
   "cell_type": "code",
   "execution_count": 22,
   "id": "e2e8f612",
   "metadata": {},
   "outputs": [],
   "source": [
    "# concatenate the one-hot encoding to the original dataframe\n",
    "newWindDir = pd.get_dummies(trainingData.WindDir, prefix='WindDir')\n",
    "trainingData = pd.concat([trainingData, newWindDir], axis = 1)\n",
    "newWindGustDir = pd.get_dummies(trainingData.WindGustDir, prefix='WindGustDir')\n",
    "trainingData = pd.concat([trainingData, newWindGustDir], axis = 1)\n",
    "\n",
    "# remove old nominal columns\n",
    "nominalFeatureList = ['WindDir', 'WindGustDir']\n",
    "for feature in nominalFeatureList:\n",
    "    trainingData.drop(feature, inplace = True, axis = 1)"
   ]
  },
  {
   "cell_type": "markdown",
   "id": "85336011",
   "metadata": {},
   "source": [
    "#### Section 1.6: Drop Nominal \"Location\" Feature\n",
    "- The Location feature will be dropped because it is a nominal attribute that is purely unique. No two locations repeat in the dataset. Therefore, it serves no purpose in determining if it will rain tomorrow."
   ]
  },
  {
   "cell_type": "code",
   "execution_count": 23,
   "id": "bacbc40a",
   "metadata": {},
   "outputs": [],
   "source": [
    "trainingData.drop('Location', inplace = True, axis = 1)"
   ]
  },
  {
   "cell_type": "markdown",
   "id": "20b9e664",
   "metadata": {},
   "source": [
    "#### Section 1.7: Exploratory Data Analysis (EDA)\n",
    "- A heatmap will be created to show the correlations between different attributes."
   ]
  },
  {
   "cell_type": "code",
   "execution_count": 24,
   "id": "e50637ae",
   "metadata": {},
   "outputs": [
    {
     "data": {
      "text/plain": [
       "<AxesSubplot:>"
      ]
     },
     "execution_count": 24,
     "metadata": {},
     "output_type": "execute_result"
    },
    {
     "data": {
      "image/png": "[encoded data removed]",
      "text/plain": [
       "<Figure size 864x504 with 2 Axes>"
      ]
     },
     "metadata": {
      "needs_background": "light"
     },
     "output_type": "display_data"
    }
   ],
   "source": [
    "importantAttributes = trainingData[['RainTomorrow', 'MinTemp', 'MaxTemp', 'Rainfall', 'WindGustSpeed', 'WindSpeed', 'Humidity', 'Pressure', 'Temp', 'RainToday']]\n",
    "mtpltlib.figure(figsize=(12,7))\n",
    "correlation = importantAttributes.corr()\n",
    "sbn.heatmap(correlation, annot = True)"
   ]
  },
  {
   "cell_type": "markdown",
   "id": "f425efd6",
   "metadata": {},
   "source": [
    "#### The attribute with the highest correlation with \"RainTomorrow\" is \"Humidity.\""
   ]
  },
  {
   "cell_type": "markdown",
   "id": "00b6d8ce",
   "metadata": {},
   "source": [
    "### Section 2: Build, Tune, and Evaluate Decision Tree Models\n",
    "\n",
    "#### Section 2.1: Building a Decision Tree Model\n",
    "- X_train represents 70% of the training dataset used for training purposes. \n",
    "- X_test represent 30% of the training dataset used for testing purposes.\n",
    "- X_test is really the validation dataset because it originates from the training dataset. The testing dataset will be used later by loading a seperate CSV file.\n",
    "- y_train represents the label \"RainTomorrow\" in the dataset, which is known.\n",
    "- X_train and y_train are used in clf.fit to build a decision tree model.\n",
    "- Once the model is built, it is used to predict the RainTomorrow label using X_test. "
   ]
  },
  {
   "cell_type": "code",
   "execution_count": 25,
   "id": "31d1494c",
   "metadata": {
    "scrolled": true
   },
   "outputs": [
    {
     "data": {
      "text/plain": [
       "<AxesSubplot:title={'center':'Predicted Y_Test'}, ylabel='Count'>"
      ]
     },
     "execution_count": 25,
     "metadata": {},
     "output_type": "execute_result"
    },
    {
     "data": {
      "image/png": "[encoded data removed]",
      "text/plain": [
       "<Figure size 576x288 with 1 Axes>"
      ]
     },
     "metadata": {
      "needs_background": "light"
     },
     "output_type": "display_data"
    }
   ],
   "source": [
    "from sklearn.tree import DecisionTreeClassifier\n",
    "from sklearn.model_selection import train_test_split, GridSearchCV, ShuffleSplit\n",
    "from sklearn import metrics\n",
    "from matplotlib import pyplot as plt\n",
    "import seaborn as sbn\n",
    "\n",
    "y = trainingData['RainTomorrow']\n",
    "trainingData.drop('RainTomorrow', inplace = True, axis = 1)\n",
    "X = trainingData\n",
    "\n",
    "X_train, X_test, y_train, y_test = train_test_split(X, y, test_size = 0.3, random_state = 16)\n",
    "clf = DecisionTreeClassifier()\n",
    "clf.fit(X_train, y_train)\n",
    "y_pred = clf.predict(X_test)\n",
    "\n",
    "plt.figure(figsize=(8,4))\n",
    "plt.title(\"Predicted Y_Test\")\n",
    "plt.xticks([0, 1], ['No Rain Tomorrow', 'Rain Tomorrow'])\n",
    "sbn.histplot(data = y_pred, bins = 2)"
   ]
  },
  {
   "cell_type": "code",
   "execution_count": 54,
   "id": "75187ee3",
   "metadata": {},
   "outputs": [
    {
     "name": "stdout",
     "output_type": "stream",
     "text": [
      "Entries with No Rain Tomorrow: 7895\n",
      "Entries with Rain Tomorrow: 7693\n"
     ]
    }
   ],
   "source": [
    "dfPred = pd.DataFrame(y_pred, columns = ['Rain Tomorrow'])\n",
    "print(\"Entries with No Rain Tomorrow: \" + str((dfPred[dfPred.columns[0]] == 0).sum()))\n",
    "print(\"Entries with Rain Tomorrow: \" + str((dfPred[dfPred.columns[0]] == 1).sum()))"
   ]
  },
  {
   "cell_type": "markdown",
   "id": "bd3b2dbc",
   "metadata": {},
   "source": [
    "- Above is the plot of y_pred, which is the predicted contents of y_test. \n",
    "- Results: \n",
    "        - No Rain Tomorrow: 7,895 entries. \n",
    "        - Rain Tomorrow: 7,693 entries.\n",
    "- How does y_pred compare with the actual contents of y_test?"
   ]
  },
  {
   "cell_type": "code",
   "execution_count": 26,
   "id": "cd636d6f",
   "metadata": {
    "scrolled": true
   },
   "outputs": [
    {
     "name": "stdout",
     "output_type": "stream",
     "text": [
      "Accuracy: 69.37%\n"
     ]
    },
    {
     "data": {
      "text/html": [
       "<div>\n",
       "<style scoped>\n",
       "    .dataframe tbody tr th:only-of-type {\n",
       "        vertical-align: middle;\n",
       "    }\n",
       "\n",
       "    .dataframe tbody tr th {\n",
       "        vertical-align: top;\n",
       "    }\n",
       "\n",
       "    .dataframe thead tr th {\n",
       "        text-align: left;\n",
       "    }\n",
       "</style>\n",
       "<table border=\"1\" class=\"dataframe\">\n",
       "  <thead>\n",
       "    <tr>\n",
       "      <th></th>\n",
       "      <th></th>\n",
       "      <th colspan=\"2\" halign=\"left\">Predict</th>\n",
       "    </tr>\n",
       "    <tr>\n",
       "      <th></th>\n",
       "      <th></th>\n",
       "      <th>No Rain Tomorrow</th>\n",
       "      <th>Rain Tomorrow</th>\n",
       "    </tr>\n",
       "  </thead>\n",
       "  <tbody>\n",
       "    <tr>\n",
       "      <th rowspan=\"2\" valign=\"top\">Real</th>\n",
       "      <th>No Rain Tomorrow</th>\n",
       "      <td>5502</td>\n",
       "      <td>2382</td>\n",
       "    </tr>\n",
       "    <tr>\n",
       "      <th>Rain Tomorrow</th>\n",
       "      <td>2393</td>\n",
       "      <td>5311</td>\n",
       "    </tr>\n",
       "  </tbody>\n",
       "</table>\n",
       "</div>"
      ],
      "text/plain": [
       "                               Predict              \n",
       "                      No Rain Tomorrow Rain Tomorrow\n",
       "Real No Rain Tomorrow             5502          2382\n",
       "     Rain Tomorrow                2393          5311"
      ]
     },
     "execution_count": 26,
     "metadata": {},
     "output_type": "execute_result"
    }
   ],
   "source": [
    "print(f\"Accuracy: {round(metrics.accuracy_score(y_test, y_pred)*100, 2)}%\")\n",
    "df_confusion = pd.crosstab(y_test, y_pred)\n",
    "df_confusion.index = [['Real', 'Real'], ['No Rain Tomorrow', 'Rain Tomorrow']]\n",
    "df_confusion.columns = [['Predict', 'Predict'], ['No Rain Tomorrow', 'Rain Tomorrow']]\n",
    "df_confusion"
   ]
  },
  {
   "cell_type": "markdown",
   "id": "7ebbb5c3",
   "metadata": {},
   "source": [
    "- The model accuracy is 69.37%.\n",
    "- Above are the accuracy and confusion matrix of the model.\n",
    "    - True Positives: 5,311\n",
    "    - False Positives: 2,382\n",
    "    - True Negatives: 5,502\n",
    "    - False Negatives: 2,393"
   ]
  },
  {
   "cell_type": "code",
   "execution_count": 27,
   "id": "eb4e186f",
   "metadata": {
    "scrolled": true
   },
   "outputs": [
    {
     "name": "stdout",
     "output_type": "stream",
     "text": [
      "              precision    recall  f1-score   support\n",
      "\n",
      "           0       0.70      0.70      0.70      7884\n",
      "           1       0.69      0.69      0.69      7704\n",
      "\n",
      "    accuracy                           0.69     15588\n",
      "   macro avg       0.69      0.69      0.69     15588\n",
      "weighted avg       0.69      0.69      0.69     15588\n",
      "\n"
     ]
    }
   ],
   "source": [
    "print(metrics.classification_report(y_test, y_pred))"
   ]
  },
  {
   "cell_type": "markdown",
   "id": "02bf14f2",
   "metadata": {},
   "source": [
    "- Above is the metrics report.\n",
    "- The F1 score is the harmonic mean of recall and precision. \n",
    "    - Weighted Average F1 score: 0.69.\n",
    "- Recall takes the false negatives into account. Recall = True Positives / (True Positives + False Negatives).\n",
    "    - Weighted Average Recall = 0.69. \n",
    "- Precision takes the false positives into account. Precision = True Positives / (True Positives + False Positives).\n",
    "    - Weighted Average Precision = 0.69."
   ]
  },
  {
   "cell_type": "markdown",
   "id": "cd02332d",
   "metadata": {},
   "source": [
    "#### Section 2.2: Decision Tree Model Hyperparameter Tuning\n",
    "- The hyperparameters of the decision tree must be tuned. \n",
    "- The param_grid is filled with sets of hyperparameters to test.\n",
    "- The GridSearchCV Cross-validation estimator will exhaustively perform cross-validation testing using all of the possible combinations of hyperparameters specified in the param_grid. \n",
    "- The GridSearchCV method will use a cross validation fold of 10, which means:\n",
    "    - The data is split into 90% training data and 10% testing data.\n",
    "    - Each combination of hyperparameters is tested 10 times, swapping training and testing data selection for each test."
   ]
  },
  {
   "cell_type": "code",
   "execution_count": 28,
   "id": "f8fd418e",
   "metadata": {},
   "outputs": [
    {
     "name": "stdout",
     "output_type": "stream",
     "text": [
      "Accuracy: 75.71%\n",
      "Hyperparameter: criterion; Value: gini\n",
      "Hyperparameter: max_depth; Value: 10\n",
      "Hyperparameter: max_leaf_nodes; Value: 30\n",
      "Hyperparameter: min_samples_leaf; Value: 1\n",
      "Hyperparameter: min_samples_split; Value: 2\n"
     ]
    }
   ],
   "source": [
    "# Hyperparameter Grid Search\n",
    "param_grid = {'criterion': ['gini', 'entropy'],\n",
    "             'min_samples_split': [2, 10, 20, 30],\n",
    "             'max_depth': [4, 6, 10, 20, 30],\n",
    "             'min_samples_leaf': [1, 2, 5, 10],\n",
    "             'max_leaf_nodes': [10, 20, 25, 30]}\n",
    "\n",
    "grid = GridSearchCV(clf, param_grid, cv = 10)\n",
    "grid.fit(X_train, y_train)\n",
    "\n",
    "# Hyperparameters for Best Performing Model\n",
    "print(f\"Accuracy: {round(grid.best_score_*100, 2)}%\")\n",
    "for key, value in grid.best_params_.items():\n",
    "    print(f\"Hyperparameter: {key}; Value: {value}\")"
   ]
  },
  {
   "cell_type": "markdown",
   "id": "8fa5ebf0",
   "metadata": {},
   "source": [
    "- The hyperparameter tuning is complete. Above are the hyperparameter settings that yield the best performance. \n",
    "- The criterion hyperparameter represents the method for deciding the data purity for the decision tree induction algorithm.\n",
    "    - The best method is the gini index. \n",
    "- The other hyperparameters determine the model complexity (i.e. the size of the model). The selection for these hyperparameters that yielded the best performance is below.\n",
    "    - Max Depth: 10\n",
    "    - Max Leaf Nodes: 30\n",
    "    - Min Leaf Samples: 1\n",
    "    - Min Split Samples: 2\n",
    "- The best performance score (accuracy) was 75.71%.  "
   ]
  },
  {
   "cell_type": "markdown",
   "id": "db670214",
   "metadata": {},
   "source": [
    "##### ShuffleSplit Method\n",
    "- Another method of sampling data during the cross-validation stage is the ShuffleSplit method. It will randomly sample data for each iteration.\n",
    "- It will be used below to generate random samples of training/validation data. \n",
    "- The size of the data samples is set using the test_size parameter.\n",
    "- The number of sections to split the data is set by the n_splits parameter."
   ]
  },
  {
   "cell_type": "code",
   "execution_count": 29,
   "id": "69922ef7",
   "metadata": {},
   "outputs": [
    {
     "name": "stdout",
     "output_type": "stream",
     "text": [
      "Accuracy: 75.65%\n",
      "Hyperparameter: criterion; Value: gini\n",
      "Hyperparameter: max_depth; Value: 10\n",
      "Hyperparameter: max_leaf_nodes; Value: 30\n",
      "Hyperparameter: min_samples_leaf; Value: 1\n",
      "Hyperparameter: min_samples_split; Value: 2\n"
     ]
    }
   ],
   "source": [
    "bstrap = ShuffleSplit(n_splits = 10, test_size = 0.3, random_state = 16)\n",
    "grid_bstrap = GridSearchCV(clf, param_grid, cv = bstrap)\n",
    "grid_bstrap.fit(X_train, y_train)\n",
    "\n",
    "# Hyperparameters for Best Performing Model\n",
    "print(f\"Accuracy: {round(grid_bstrap.best_score_*100, 2)}%\")\n",
    "for key, value in grid_bstrap.best_params_.items():\n",
    "    print(f\"Hyperparameter: {key}; Value: {value}\")"
   ]
  },
  {
   "cell_type": "markdown",
   "id": "78fc94ba",
   "metadata": {},
   "source": [
    "- The ShuffleSplit method of data sampling produced the same properties of the trained model.\n",
    "    - Criterion: Gini Index\n",
    "    - Max Depth: 10\n",
    "    - Max Leaf Nodes: 30\n",
    "    - Min Leaf Samples: 1\n",
    "    - Min Split Samples: 2\n",
    "- The best performance score (accuracy) was 75.65%.  "
   ]
  },
  {
   "cell_type": "markdown",
   "id": "f3c55a7e",
   "metadata": {},
   "source": [
    "#### Section 2.3: Decision Tree Model Performance Evaluation\n",
    "##### ROC/AUC Plot\n",
    "- The following section will measure the performance of the model by evaluating the Area Under Curve (AUC) score and by building a Receiver Characteristic Curve (ROC).\n",
    "- The AUC/ROC measures the model's ability to distinguish between the classes.\n",
    "    - The arguments for the AUC/ROC curve are the predicted probability for target label and the target label.\n",
    "- The predict_proba method of the GridSearchCV module will be used to predict the probability that the data will belong to the class label \"RainTomorrow.\""
   ]
  },
  {
   "cell_type": "code",
   "execution_count": 30,
   "id": "902df62d",
   "metadata": {},
   "outputs": [
    {
     "name": "stdout",
     "output_type": "stream",
     "text": [
      "AUC = 0.8294070074623052\n"
     ]
    },
    {
     "data": {
      "text/plain": [
       "Text(0, 0.5, 'Sensitivity')"
      ]
     },
     "execution_count": 30,
     "metadata": {},
     "output_type": "execute_result"
    },
    {
     "data": {
      "image/png": "[encoded data removed]",
      "text/plain": [
       "<Figure size 432x288 with 1 Axes>"
      ]
     },
     "metadata": {
      "needs_background": "light"
     },
     "output_type": "display_data"
    }
   ],
   "source": [
    "from sklearn.metrics import roc_auc_score, roc_curve\n",
    "\n",
    "# predict the probability it will rain tomorrow (1)\n",
    "y_pred_prob = grid.predict_proba(X_test)[:, 1]\n",
    "\n",
    "areaUnderCurve = roc_auc_score(y_test, y_pred_prob)\n",
    "print(f\"AUC = {areaUnderCurve}\")\n",
    "fpr, tpr, _ = roc_curve(y_test, y_pred_prob)\n",
    "\n",
    "sbn.lineplot(x = fpr, y = tpr)\n",
    "plt.xlabel('1 - Specificity')\n",
    "plt.ylabel('Sensitivity')"
   ]
  },
  {
   "cell_type": "markdown",
   "id": "84d668e1",
   "metadata": {},
   "source": [
    "##### The area under the curve is 0.8294.\n",
    "- The specificity measures the proportion of true negatives that were correctly identified by the model. It takes into account false positives.\n",
    "- The sensitivity measures how well the model detected positive instances. It is also known as Recall and takes into account false negatives.\n",
    "- The ROC curve is constructed by plotting the True Positive Rate (TPR) against the False Positive Rate (FPR). \n",
    "- TPR = TP / (TP + FN)\n",
    "- FPR = FP / (TN + FP)"
   ]
  },
  {
   "cell_type": "markdown",
   "id": "e1d21a68",
   "metadata": {},
   "source": [
    "### Section 3: Model Prediction (Weather Forecast Testing.csv)\n",
    "- The model will now be used to predict the values of the RainTomorrow attribute of the testing dataset.\n",
    "- The data will be cleaned before being used by the model."
   ]
  },
  {
   "cell_type": "code",
   "execution_count": 73,
   "id": "f87d4449",
   "metadata": {},
   "outputs": [
    {
     "name": "stdout",
     "output_type": "stream",
     "text": [
      "(Rows, Columns):  (12994, 41)\n"
     ]
    }
   ],
   "source": [
    "# read in the testing dataset (.csv file)\n",
    "testData = pd.read_csv('Weather Forecast Testing.csv')\n",
    "\n",
    "# clip the values of the outliers.\n",
    "clipOutliers(testData, featureList)\n",
    "\n",
    "# drop all duplicate entries.\n",
    "testData.drop_duplicates(inplace = True)\n",
    "\n",
    "# remove features with high percentage of NULL values.\n",
    "testData.drop('Evaporation', inplace = True, axis = 1)\n",
    "testData.drop('Sunshine', inplace = True, axis = 1)\n",
    "testData.drop('Cloud', inplace = True, axis = 1)\n",
    "\n",
    "# Numeric Ratio Types: Replace NULL values with forward fill value\n",
    "replaceNaWithFfill(testData, numRatioFeatureListNa)\n",
    "\n",
    "# Non-numeric Types: Replace NULL values with the most common value\n",
    "replaceNaWithMCV(testData, nonRatioList)\n",
    "\n",
    "# replace Yes/No with 1/0 binary values.\n",
    "testData['RainToday'] = testData['RainToday'].replace(\"No\", 0)\n",
    "testData['RainToday'] = testData['RainToday'].replace(\"Yes\", 1)\n",
    "\n",
    "# concatenate the one-hot encoding to the original dataframe\n",
    "newWindDirTest = pd.get_dummies(testData.WindDir, prefix='WindDir')\n",
    "testData = pd.concat([testData, newWindDirTest], axis = 1)\n",
    "newWindGustDirTest = pd.get_dummies(testData.WindGustDir, prefix='WindGustDir')\n",
    "testData = pd.concat([testData, newWindGustDirTest], axis = 1)\n",
    "\n",
    "# remove old nominal columns that were one-hot encoded.\n",
    "testData.drop('WindDir', inplace = True, axis = 1)\n",
    "testData.drop('WindGustDir', inplace = True, axis = 1)\n",
    "testData.drop('Location', inplace = True, axis = 1)\n",
    "\n",
    "# record the ID feature and drop it from the original dataframe.\n",
    "idFeature = testData['ID']\n",
    "testData.drop('ID', inplace = True, axis = 1)\n",
    "\n",
    "print(\"(Rows, Columns): \", testData.shape)"
   ]
  },
  {
   "cell_type": "markdown",
   "id": "ab4ae61c",
   "metadata": {},
   "source": [
    "#### The testing dataset is now cleaned and ready to use in the model."
   ]
  },
  {
   "cell_type": "code",
   "execution_count": 74,
   "id": "5694d8ad",
   "metadata": {},
   "outputs": [
    {
     "name": "stderr",
     "output_type": "stream",
     "text": [
      "C:\\Users\\aredamonti\\Anaconda3\\lib\\site-packages\\sklearn\\base.py:450: UserWarning: X does not have valid feature names, but DecisionTreeClassifier was fitted with feature names\n",
      "  warnings.warn(\n"
     ]
    }
   ],
   "source": [
    "# convert dataframe to numpy array\n",
    "testDataNpArr = testData.to_numpy()\n",
    "\n",
    "# predict the outcome using the test data\n",
    "prediction = grid.predict(testDataNpArr)\n",
    "\n",
    "# change the binary attribute (1/0) to Yes/No format\n",
    "yesNoList = []\n",
    "for item in prediction:\n",
    "    if(item == 1):\n",
    "        yesNoList.append(\"Yes\")\n",
    "    elif(item == 0):\n",
    "        yesNoList.append(\"No\")\n",
    "\n",
    "predictionArr = np.array(yesNoList)\n",
    "        \n",
    "# convert the ID attribute to numpy array\n",
    "idFeature = idFeature.to_numpy()\n",
    "\n",
    "# combine the ID with the prediction\n",
    "combined = np.vstack((idFeature, predictionArr)).T"
   ]
  },
  {
   "cell_type": "markdown",
   "id": "4f7b2e6c",
   "metadata": {},
   "source": [
    "#### The prediction data is ready to be exported to a CSV file."
   ]
  },
  {
   "cell_type": "code",
   "execution_count": 75,
   "id": "2adb96d1",
   "metadata": {
    "scrolled": true
   },
   "outputs": [
    {
     "data": {
      "image/png": "[encoded data removed]",
      "text/plain": [
       "<Figure size 576x288 with 1 Axes>"
      ]
     },
     "metadata": {
      "needs_background": "light"
     },
     "output_type": "display_data"
    }
   ],
   "source": [
    "# plot the results\n",
    "plt.figure(figsize=(8,4))\n",
    "plt.title(\"Predicted Y_Test\")\n",
    "plt.xticks([0, 1], ['No Rain Tomorrow', 'Rain Tomorrow'])\n",
    "sbn.histplot(data = prediction, bins = 2)\n",
    "\n",
    "# save the data to a CSV file\n",
    "newDataFrameTest = pd.DataFrame(combined)\n",
    "newDataFrameTest.to_csv('Prediction.csv',index=False)"
   ]
  },
  {
   "cell_type": "code",
   "execution_count": 80,
   "id": "c759bb77",
   "metadata": {},
   "outputs": [
    {
     "name": "stdout",
     "output_type": "stream",
     "text": [
      "Entries with No Rain Tomorrow: 6792\n"
     ]
    }
   ],
   "source": [
    "print(\"Entries with No Rain Tomorrow: \" + str((newDataFrameTest[newDataFrameTest.columns[1]] == 'No').sum()))"
   ]
  },
  {
   "cell_type": "code",
   "execution_count": 81,
   "id": "885f42ef",
   "metadata": {},
   "outputs": [
    {
     "name": "stdout",
     "output_type": "stream",
     "text": [
      "Entries with Rain Tomorrow: 6202\n"
     ]
    }
   ],
   "source": [
    "print(\"Entries with Rain Tomorrow: \" + str((newDataFrameTest[newDataFrameTest.columns[1]] == 'Yes').sum()))"
   ]
  },
  {
   "cell_type": "markdown",
   "id": "7dc1bdea",
   "metadata": {},
   "source": [
    "- The above plot shows the prediction results. \n",
    "- The model prediction is below:\n",
    "    - Rain Tomorrow: 6,202 \n",
    "    - No Rain Tomorrow: 6,792\n",
    "\n",
    "#### The column titles shall be \"ID\" and \"DT\".\n",
    "- The below code formats the title of the csv file to \"ID\" and \"DT\"."
   ]
  },
  {
   "cell_type": "code",
   "execution_count": 82,
   "id": "2b4538f0",
   "metadata": {},
   "outputs": [],
   "source": [
    "import csv\n",
    "\n",
    "# read in the contents of the CSV file\n",
    "file = open('Prediction.csv', 'r')\n",
    "fileReader = csv.reader(file)\n",
    "listCsv = list(fileReader)\n",
    "file.close()\n",
    "\n",
    "# alter the titles of the columns to \"ID\" and \"DT\"\n",
    "listCsv[0][0] = 'ID'\n",
    "listCsv[0][1] = 'DT'\n",
    "\n",
    "# write the altered file contents to the CSV file\n",
    "newListCsv = open('Prediction.csv', 'w', newline = '')\n",
    "fileWriter = csv.writer(newListCsv)\n",
    "fileWriter.writerows(listCsv)\n",
    "newListCsv.close()"
   ]
  }
 ],
 "metadata": {
  "kernelspec": {
   "display_name": "Python 3 (ipykernel)",
   "language": "python",
   "name": "python3"
  },
  "language_info": {
   "codemirror_mode": {
    "name": "ipython",
    "version": 3
   },
   "file_extension": ".py",
   "mimetype": "text/x-python",
   "name": "python",
   "nbconvert_exporter": "python",
   "pygments_lexer": "ipython3",
   "version": "3.9.12"
  }
 },
 "nbformat": 4,
 "nbformat_minor": 5
}
