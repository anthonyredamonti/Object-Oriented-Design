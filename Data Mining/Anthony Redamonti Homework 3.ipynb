{
 "cells": [
  {
   "cell_type": "markdown",
   "id": "d80390e0",
   "metadata": {},
   "source": [
    "# Homework 3\n",
    "---------------------------------------------------------------------\n",
    "## CIS 600 Fundamental Data & Knowledge Mining\n",
    "## Prof. Ying Lin\n",
    "## 11/19/2022\n",
    "\n",
    "### Anthony Redamonti\n",
    "### Syracuse University"
   ]
  },
  {
   "cell_type": "markdown",
   "id": "3198b2df",
   "metadata": {},
   "source": [
    "### Section 1: Introduction \n",
    "The following project was implemented in Jupyter Notebooks using Anaconda 3 with Python 3 (ipykernel). The goal of the project is to build various models that are designed to solve a binary classification problem: Based on the training dataset, predict which patients in the test dataset will contract the disease.\n",
    "\n",
    "Analyze the dataset provided in the file \"Disease Prediction Training.csv.\"\n",
    "- Data Preparation & EDA\n",
    "- Build, Tune, and Evaluate Various Machine Learning Algorithms\n",
    "    - Naive Bayes Classifier (NBC)\n",
    "    - K Nearest Neighbors (KNN)\n",
    "    - Random Forest\n",
    "    - Grandient Boosting Machine (GBM)\n",
    "\n",
    "Apply the classification models on the test dataset \"Disease Prediction Testing.csv.\"\n",
    "- Model Prediction"
   ]
  },
  {
   "cell_type": "markdown",
   "id": "84f88c17",
   "metadata": {},
   "source": [
    "### Section 2: Data Preparation & EDA\n",
    "- Handle Outliers\n",
    "- Data Normalization\n",
    "- Replace Entries with Missing Data\n",
    "- Format Gender Attribute \n",
    "- One-hot Encoding\n",
    "- Data Standardization/Normalization\n",
    "- EDA: Heatmap"
   ]
  },
  {
   "cell_type": "code",
   "execution_count": 1,
   "id": "9a2cb1a4",
   "metadata": {},
   "outputs": [
    {
     "name": "stdout",
     "output_type": "stream",
     "text": [
      "(Rows, Columns):  (49000, 12)\n"
     ]
    }
   ],
   "source": [
    "import pandas as pd\n",
    "import numpy as np\n",
    "import seaborn as sbn\n",
    "import matplotlib.pyplot as mtpltlib\n",
    "\n",
    "trainingData = pd.read_csv('Disease Prediction Training.csv')\n",
    "\n",
    "print(\"(Rows, Columns): \", trainingData.shape)"
   ]
  },
  {
   "cell_type": "markdown",
   "id": "79c92dd0",
   "metadata": {},
   "source": [
    "#### Section 2.1: Handle Outliers\n",
    "\n",
    "Certain features must be checked for outliers. \n",
    "\n",
    "An outlier will be defined in the following manner:\n",
    "- The IQR must be found. The IQR is defined as the difference between the 75th and 25th percentiles of the data.\n",
    "- Once the IQR is found, it is used to find the upper and lower thresholds that will be used to find outliers.\n",
    "- The upper threshold is: 75th percentile + (1.5 * IQR)\n",
    "- The lower threshold is: 25th percentile - (1.5 * IQR)\n",
    "\n",
    "Find the total number of entries that contain outliers in the dataset. First, the following numeric ratio features will be checked for outliers: \n",
    "- Age, Height, Weight, High Blood Pressure, and Low Blood Pressure."
   ]
  },
  {
   "cell_type": "code",
   "execution_count": 2,
   "id": "bf4702d2",
   "metadata": {},
   "outputs": [
    {
     "name": "stdout",
     "output_type": "stream",
     "text": [
      "Percentage of Outliers: 10.71%\n"
     ]
    }
   ],
   "source": [
    "# Function that returns the indices of all the outliers in the dataset.\n",
    "# Arguments are the dataset and a list of features.\n",
    "def findOutlierIndexList(dataframe, inputFeatureList):\n",
    "    \n",
    "    outlierList = []\n",
    "    \n",
    "    for feature in inputFeatureList:\n",
    "        quantile1 = dataframe[feature].quantile(0.25)\n",
    "        quantile3 = dataframe[feature].quantile(0.75)\n",
    "        interquartileRange = quantile3 - quantile1\n",
    "        lowerThreshhold = quantile1 - (1.5 * interquartileRange)\n",
    "        upperThreshhold = quantile3 + (1.5 * interquartileRange)\n",
    "        \n",
    "        index = 0\n",
    "        \n",
    "        # search the feature for outliers\n",
    "        while(index < len(dataframe) - 1):\n",
    "            value = dataframe._get_value(index, feature)\n",
    "            if((value < lowerThreshhold) or (value > upperThreshhold)):\n",
    "                outlierList.append(index)\n",
    "            index = index + 1\n",
    "                \n",
    "    # remove repeating indices.\n",
    "    outlierList = sorted(set(outlierList))\n",
    "    return outlierList\n",
    "\n",
    "# Define a list of numeric ratio features that may have outliers. \n",
    "ratioFeatureList = ['Age', 'Height', 'Weight', 'High Blood Pressure', 'Low Blood Pressure']\n",
    "\n",
    "# Find the total number of outliers in the dataset.\n",
    "outlierIndexList = findOutlierIndexList(trainingData, ratioFeatureList)\n",
    "totalNumberOfOutliers = len(outlierIndexList)\n",
    "print(\"Percentage of Outliers:\", '{:.2%}'.format(totalNumberOfOutliers / len(trainingData)))"
   ]
  },
  {
   "cell_type": "markdown",
   "id": "aa2fe977",
   "metadata": {},
   "source": [
    "#### 10.71% of the entries in the numeric ratio features contain outliers. "
   ]
  },
  {
   "cell_type": "markdown",
   "id": "224b2804",
   "metadata": {},
   "source": [
    "#### The outliers will be clipped so that they will fall within the range of acceptable values. \n",
    "- Any value greater than the upper threshold will be set equal to the upper threshold.\n",
    "- Any value less than the lower threshold will be set equal to the lower threshold.\n",
    "- The upper threshold is: 75th percentile + (1.5 * IQR)\n",
    "- The lower threshold is: 25th percentile - (1.5 * IQR)"
   ]
  },
  {
   "cell_type": "code",
   "execution_count": 3,
   "id": "e538cbc7",
   "metadata": {
    "scrolled": true
   },
   "outputs": [
    {
     "name": "stdout",
     "output_type": "stream",
     "text": [
      "Total number of outliers found after clipping:  0\n"
     ]
    }
   ],
   "source": [
    "# Function that clips the value of outliers in the dataset.\n",
    "# Arguments are the original dataset and a list of selected features.\n",
    "def clipOutliers(dataframe, inputFeatureList):\n",
    "    for feature in inputFeatureList:\n",
    "        quantile1 = dataframe[feature].quantile(0.25)\n",
    "        quantile3 = dataframe[feature].quantile(0.75)\n",
    "        interquartileRange = quantile3 - quantile1\n",
    "        lowerThreshhold = quantile1 - (1.5 * interquartileRange)\n",
    "        upperThreshhold = quantile3 + (1.5 * interquartileRange)\n",
    "        index = 0\n",
    "    \n",
    "        # search the feature for outliers\n",
    "        while(index < len(dataframe) - 1):\n",
    "            value = dataframe._get_value(index, feature)\n",
    "            if(value < lowerThreshhold):\n",
    "                dataframe._set_value(index, feature, lowerThreshhold)            \n",
    "            if(value > upperThreshhold):\n",
    "                dataframe._set_value(index, feature, upperThreshhold)            \n",
    "            index = index + 1 \n",
    "\n",
    "# clip the values of the outliers.\n",
    "clipOutliers(trainingData, ratioFeatureList)\n",
    "\n",
    "# Find the total number of outliers in the dataset.\n",
    "print(\"Total number of outliers found after clipping: \", len(findOutlierIndexList(trainingData, ratioFeatureList)))"
   ]
  },
  {
   "cell_type": "markdown",
   "id": "76c91944",
   "metadata": {},
   "source": [
    "#### Section 2.2 Data Normalization\n",
    "- The numeric ratio attribute must be normalized so that their values fall within the range of 0 and 1. \n",
    "- Due to the nature of the distance based machine learning algorithms, the numeric ratio attributes must fall within this range. If the data were not normalized, the features would not be properly balanced (improperly weighted)."
   ]
  },
  {
   "cell_type": "code",
   "execution_count": 4,
   "id": "d6a383fe",
   "metadata": {},
   "outputs": [
    {
     "data": {
      "text/plain": [
       "<AxesSubplot:xlabel='High Blood Pressure', ylabel='Count'>"
      ]
     },
     "execution_count": 4,
     "metadata": {},
     "output_type": "execute_result"
    },
    {
     "data": {
      "image/png": "[encoded data removed]",
      "text/plain": [
       "<Figure size 864x720 with 4 Axes>"
      ]
     },
     "metadata": {
      "needs_background": "light"
     },
     "output_type": "display_data"
    }
   ],
   "source": [
    "fig, axs = mtpltlib.subplots(2, 2, figsize=(12, 10))\n",
    "sbn.histplot(data = trainingData, x=\"Age\", hue=\"Disease\", bins = 9, ax=axs[0, 0])\n",
    "sbn.histplot(data = trainingData, x=\"Height\", hue=\"Disease\", bins = 9, ax=axs[0, 1])\n",
    "sbn.histplot(data = trainingData, x=\"Weight\", hue=\"Disease\", bins = 9, ax = axs[1, 0])\n",
    "sbn.histplot(data = trainingData, x=\"High Blood Pressure\", hue=\"Disease\", bins = 9, ax = axs[1, 1])"
   ]
  },
  {
   "cell_type": "code",
   "execution_count": 5,
   "id": "d904125b",
   "metadata": {},
   "outputs": [
    {
     "data": {
      "text/plain": [
       "<AxesSubplot:xlabel='High Blood Pressure', ylabel='Count'>"
      ]
     },
     "execution_count": 5,
     "metadata": {},
     "output_type": "execute_result"
    },
    {
     "data": {
      "image/png": "[encoded data removed]",
      "text/plain": [
       "<Figure size 864x720 with 4 Axes>"
      ]
     },
     "metadata": {
      "needs_background": "light"
     },
     "output_type": "display_data"
    }
   ],
   "source": [
    "# Normalize the features in the input feature list of the dataframe.\n",
    "# Values will be normalized between 0 and 1.\n",
    "# Arguments are the dataframe and the input feature list.\n",
    "def normalizeDataset(dataframe, inputFeatureList):\n",
    "    for feature in inputFeatureList:\n",
    "\n",
    "        # scale between -1 and 1\n",
    "        absMax = dataframe[feature].abs().max()\n",
    "        dataframe[feature] = dataframe[feature] / absMax\n",
    "        \n",
    "        # scale between 0 and 1\n",
    "        minimum = dataframe[feature].min()\n",
    "        maximum = dataframe[feature].max()\n",
    "        difference = maximum - minimum\n",
    "        dataframe[feature] = (dataframe[feature] - minimum) / difference\n",
    "\n",
    "normalizeDataset(trainingData, ratioFeatureList)\n",
    "\n",
    "fig, axs = mtpltlib.subplots(2, 2, figsize=(12, 10))\n",
    "sbn.histplot(data = trainingData, x=\"Age\", hue=\"Disease\", bins = 9, ax=axs[0, 0])\n",
    "sbn.histplot(data = trainingData, x=\"Height\", hue=\"Disease\", bins = 9, ax=axs[0, 1])\n",
    "sbn.histplot(data = trainingData, x=\"Weight\", hue=\"Disease\", bins = 9, ax = axs[1, 0])\n",
    "sbn.histplot(data = trainingData, x=\"High Blood Pressure\", hue=\"Disease\", bins = 9, ax = axs[1, 1])"
   ]
  },
  {
   "cell_type": "markdown",
   "id": "a7b7014e",
   "metadata": {},
   "source": [
    "- The histograms above illustrate that the numeric ratio data has been normalized in the range [0, 1]."
   ]
  },
  {
   "cell_type": "markdown",
   "id": "038563e3",
   "metadata": {},
   "source": [
    "#### Section 2.3: Replace Entries with Missing Data\n",
    "- The summary below displays the total number of NULL entries for each feature."
   ]
  },
  {
   "cell_type": "code",
   "execution_count": 6,
   "id": "84790eb9",
   "metadata": {
    "scrolled": false
   },
   "outputs": [
    {
     "data": {
      "text/plain": [
       "Age                    0\n",
       "Gender                 0\n",
       "Height                 0\n",
       "Weight                 0\n",
       "High Blood Pressure    0\n",
       "Low Blood Pressure     0\n",
       "Cholesterol            0\n",
       "Glucose                0\n",
       "Smoke                  0\n",
       "Alcohol                0\n",
       "Exercise               0\n",
       "Disease                0\n",
       "dtype: int64"
      ]
     },
     "execution_count": 6,
     "metadata": {},
     "output_type": "execute_result"
    }
   ],
   "source": [
    "trainingData.isnull().sum()"
   ]
  },
  {
   "cell_type": "markdown",
   "id": "9ce318c2",
   "metadata": {},
   "source": [
    "##### There are no entries with missing data."
   ]
  },
  {
   "cell_type": "markdown",
   "id": "66778066",
   "metadata": {},
   "source": [
    "#### Section 2.4: Format Gender Attribute\n",
    "- The format of the gender attribute will be transformed from Male/Female to 1/0 numeric format for model building."
   ]
  },
  {
   "cell_type": "code",
   "execution_count": 7,
   "id": "2e2ba956",
   "metadata": {},
   "outputs": [],
   "source": [
    "trainingData['Gender'] = trainingData['Gender'].replace(\"female\", 0)\n",
    "trainingData['Gender'] = trainingData['Gender'].replace(\"male\", 1)"
   ]
  },
  {
   "cell_type": "markdown",
   "id": "1b061cbe",
   "metadata": {},
   "source": [
    "#### Section 2.5: One-Hot Encoding\n",
    "- \"Glucose\" and \"Cholesterol\" need to be transformed using one-hot encoding.\n",
    "- After the one-hot encoded columns are added to the dataset, the original feature columns \"Glucose\" and \"Cholesterol\" will be removed as they are no longer needed."
   ]
  },
  {
   "cell_type": "code",
   "execution_count": 8,
   "id": "ca919273",
   "metadata": {},
   "outputs": [],
   "source": [
    "# concatenate the one-hot encoding to the original dataframe\n",
    "newCholesterol = pd.get_dummies(trainingData.Cholesterol, prefix='Cholesterol')\n",
    "trainingData = pd.concat([trainingData, newCholesterol], axis = 1)\n",
    "newGlucose = pd.get_dummies(trainingData.Glucose, prefix='Glucose')\n",
    "trainingData = pd.concat([trainingData, newGlucose], axis = 1)\n",
    "\n",
    "# remove old nominal columns\n",
    "nominalFeatureList = ['Cholesterol', 'Glucose']\n",
    "for feature in nominalFeatureList:\n",
    "    trainingData.drop(feature, inplace = True, axis = 1)"
   ]
  },
  {
   "cell_type": "markdown",
   "id": "c4bcb58e",
   "metadata": {},
   "source": [
    "#### Section 2.6: Data Standardization/Normalization\n",
    "- The numeric ratio features will be standardized and normalized before the dataframe can be used to build any models.\n",
    "- The fit_transform method of the scaler class is used to fit and transform a dataframe's features independently. \n",
    "- After transformation, each numeric ratio feature will have:\n",
    "    - Mean == 0\n",
    "    - Variance == 1"
   ]
  },
  {
   "cell_type": "code",
   "execution_count": 9,
   "id": "9a5d8f5d",
   "metadata": {},
   "outputs": [],
   "source": [
    "from sklearn.preprocessing import StandardScaler\n",
    "from sklearn.model_selection import train_test_split, cross_val_score\n",
    "from numpy import mean\n",
    "from numpy import var\n",
    "\n",
    "# separate the target feature from the training dataset\n",
    "y = trainingData['Disease']\n",
    "trainingData.drop('Disease', inplace = True, axis = 1)\n",
    "X = trainingData\n",
    "\n",
    "scaler = StandardScaler()\n",
    "\n",
    "# create a dataframe with only the numeric ratio features.\n",
    "X_ratio = pd.DataFrame()\n",
    "for feature in ratioFeatureList:\n",
    "    X_ratio = pd.concat([X_ratio, trainingData[feature]], axis = 1)\n",
    "\n",
    "# fit and transform the features.\n",
    "X_ratio_scaled = scaler.fit_transform(X_ratio)\n",
    "\n",
    "# convert the numpy array to dataframe\n",
    "X_ratio_scaled_df = pd.DataFrame(X_ratio_scaled)\n",
    "\n",
    "# name the columns of the dataframe\n",
    "X_ratio_scaled_df.columns = ratioFeatureList\n",
    "\n",
    "# overwrite the old numeric ratio features with the transformed numeric ratio features.\n",
    "for feature in ratioFeatureList:\n",
    "    X[feature] = X_ratio_scaled_df[feature]"
   ]
  },
  {
   "cell_type": "code",
   "execution_count": 10,
   "id": "faee07fa",
   "metadata": {},
   "outputs": [
    {
     "name": "stdout",
     "output_type": "stream",
     "text": [
      "MEAN OF NUMERIC RATIO FEATURES:\n"
     ]
    },
    {
     "data": {
      "text/plain": [
       "Age                   -1.789856e-16\n",
       "Height                -2.455859e-17\n",
       "Weight                 3.340910e-16\n",
       "High Blood Pressure   -1.735131e-16\n",
       "Low Blood Pressure     2.251714e-17\n",
       "dtype: float64"
      ]
     },
     "execution_count": 10,
     "metadata": {},
     "output_type": "execute_result"
    }
   ],
   "source": [
    "print(\"MEAN OF NUMERIC RATIO FEATURES:\")\n",
    "mean(X_ratio_scaled_df, axis = 0)"
   ]
  },
  {
   "cell_type": "code",
   "execution_count": 11,
   "id": "d79ef4da",
   "metadata": {},
   "outputs": [
    {
     "name": "stdout",
     "output_type": "stream",
     "text": [
      "VARIANCE OF NUMERIC RATIO FEATURES:\n"
     ]
    },
    {
     "data": {
      "text/plain": [
       "Age                    1.0\n",
       "Height                 1.0\n",
       "Weight                 1.0\n",
       "High Blood Pressure    1.0\n",
       "Low Blood Pressure     1.0\n",
       "dtype: float64"
      ]
     },
     "execution_count": 11,
     "metadata": {},
     "output_type": "execute_result"
    }
   ],
   "source": [
    "print(\"VARIANCE OF NUMERIC RATIO FEATURES:\")\n",
    "var(X_ratio_scaled_df, axis = 0)"
   ]
  },
  {
   "cell_type": "markdown",
   "id": "c6eeba6a",
   "metadata": {},
   "source": [
    "- After standardization/normalization, the numeric ratio features have the following properties:\n",
    "    - The mean is approximately zero.\n",
    "    - The variance is 1.0."
   ]
  },
  {
   "cell_type": "markdown",
   "id": "69ef0b70",
   "metadata": {},
   "source": [
    "#### Section 2.7: Heatmap (EDA)\n",
    "- A heatmap will be created to show the correlations between different attributes."
   ]
  },
  {
   "cell_type": "code",
   "execution_count": 12,
   "id": "3a6857b7",
   "metadata": {},
   "outputs": [
    {
     "data": {
      "image/png": "[encoded data removed]",
      "text/plain": [
       "<Figure size 864x504 with 2 Axes>"
      ]
     },
     "metadata": {
      "needs_background": "light"
     },
     "output_type": "display_data"
    }
   ],
   "source": [
    "# append the feature back into the dataset\n",
    "X['Disease'] = y\n",
    "\n",
    "# create the heatmap\n",
    "importantAttributes = X[X.columns]\n",
    "mtpltlib.figure(figsize=(12,7))\n",
    "correlation = importantAttributes.corr()\n",
    "sbn.heatmap(correlation, annot = True)\n",
    "\n",
    "# remove the target feature.\n",
    "X.drop('Disease', inplace = True, axis = 1)"
   ]
  },
  {
   "cell_type": "markdown",
   "id": "ab308ae9",
   "metadata": {},
   "source": [
    "- The five attributes with the highest correlation with the disease are High Blood Pressure, Low Blood Pressure, Age, Weight, and Cholesterol_too high."
   ]
  },
  {
   "cell_type": "markdown",
   "id": "bce4aaeb",
   "metadata": {},
   "source": [
    "### Section 3: Build, Tune, and Evaluate Various Machine Learning Models"
   ]
  },
  {
   "cell_type": "markdown",
   "id": "d2fc32a1",
   "metadata": {},
   "source": [
    "#### Section 3.1: Train_test_split \n",
    "- The data will now be divided for model building using train_test_split.\n",
    "- X_train represents 70% of the training dataset used for training purposes. \n",
    "- X_test represent 30% of the training dataset used for testing purposes.\n",
    "- X_test is really the validation dataset because it originates from the training dataset. The testing dataset will be used later by loading a seperate CSV file.\n",
    "- y_train represents the label \"Disease\" in the dataset, which is known."
   ]
  },
  {
   "cell_type": "code",
   "execution_count": 13,
   "id": "fa28c472",
   "metadata": {},
   "outputs": [],
   "source": [
    "X_train, X_test, y_train, y_test = train_test_split(X, y, test_size = 0.3, random_state = 16)"
   ]
  },
  {
   "cell_type": "markdown",
   "id": "faf12f76",
   "metadata": {},
   "source": [
    "#### Section 3.2: Building a K-Nearest Neighbors (KNN) Model\n",
    "- The KNN model is a distance-based machine learning algorithm used for solving regression and classification problems.\n",
    "- It assumes entries belong to the same group as those closest to it. \n",
    "- The K in KNN is the hyperparameter that specifies how many nearest neighbors to consider when classifying an entry.\n",
    "- X_train and y_train are used in clf.fit to build a KNN model.\n",
    "- Once the model is built, it is used to predict the Disease label using X_test. "
   ]
  },
  {
   "cell_type": "code",
   "execution_count": 14,
   "id": "dfdbe044",
   "metadata": {},
   "outputs": [
    {
     "name": "stdout",
     "output_type": "stream",
     "text": [
      "Accuracy: 69.82%\n"
     ]
    },
    {
     "data": {
      "text/html": [
       "<div>\n",
       "<style scoped>\n",
       "    .dataframe tbody tr th:only-of-type {\n",
       "        vertical-align: middle;\n",
       "    }\n",
       "\n",
       "    .dataframe tbody tr th {\n",
       "        vertical-align: top;\n",
       "    }\n",
       "\n",
       "    .dataframe thead th {\n",
       "        text-align: right;\n",
       "    }\n",
       "</style>\n",
       "<table border=\"1\" class=\"dataframe\">\n",
       "  <thead>\n",
       "    <tr style=\"text-align: right;\">\n",
       "      <th>col_0</th>\n",
       "      <th>0</th>\n",
       "      <th>1</th>\n",
       "    </tr>\n",
       "    <tr>\n",
       "      <th>Disease</th>\n",
       "      <th></th>\n",
       "      <th></th>\n",
       "    </tr>\n",
       "  </thead>\n",
       "  <tbody>\n",
       "    <tr>\n",
       "      <th>0</th>\n",
       "      <td>5204</td>\n",
       "      <td>2094</td>\n",
       "    </tr>\n",
       "    <tr>\n",
       "      <th>1</th>\n",
       "      <td>2343</td>\n",
       "      <td>5059</td>\n",
       "    </tr>\n",
       "  </tbody>\n",
       "</table>\n",
       "</div>"
      ],
      "text/plain": [
       "col_0       0     1\n",
       "Disease            \n",
       "0        5204  2094\n",
       "1        2343  5059"
      ]
     },
     "execution_count": 14,
     "metadata": {},
     "output_type": "execute_result"
    }
   ],
   "source": [
    "from scipy.spatial.distance import cdist\n",
    "from matplotlib import pyplot as plt\n",
    "from sklearn.neighbors import KNeighborsClassifier\n",
    "from sklearn import metrics\n",
    "\n",
    "clfKnn = KNeighborsClassifier()\n",
    "clfKnn.fit(X_train, y_train)\n",
    "y_pred = clfKnn.predict(X_test)\n",
    "\n",
    "print(f\"Accuracy: {round( metrics.accuracy_score(y_test, y_pred) * 100, 2)}%\")\n",
    "df_confusion = pd.crosstab(y_test, y_pred)\n",
    "df_confusion"
   ]
  },
  {
   "cell_type": "markdown",
   "id": "c6005284",
   "metadata": {},
   "source": [
    "##### The accuracy of the KNN model is 69.82%. The model will now be tested using two forms of cross-validation to improve performance.\n",
    "- The two methods of cross-validation to be tested are: ShuffleSplit and KFold.\n",
    "##### ShuffleSplit Method\n",
    "- Shufflesplit is a method of sampling data during the cross-validation stage. \n",
    "- It will randomly sample data for each iteration.\n",
    "- It will be used below to generate random samples of training/validation data. \n",
    "- The size of the data samples is set using the test_size parameter.\n",
    "- The number of sections to split the data is set by the n_splits parameter.\n",
    "##### KFold Method\n",
    "- K-fold is a method of sampling data during the cross-validation stage.\n",
    "- It will divide the samples into K number of sections. \n",
    "- One section will be for validation purposes. \n",
    "- The remaining sections will be for training purposes.\n",
    "- The sections are swapped between iterations.\n",
    "- The number K is set using the n_splits parameter."
   ]
  },
  {
   "cell_type": "code",
   "execution_count": 15,
   "id": "12a779a8",
   "metadata": {
    "scrolled": false
   },
   "outputs": [
    {
     "name": "stdout",
     "output_type": "stream",
     "text": [
      "Accuracy using ShuffleSplit cross validation: 69.65\n",
      "Accuracy using KFold cross validation: 69.75\n"
     ]
    }
   ],
   "source": [
    "# Get Repeated Hold Out Accuracy of Model\n",
    "from sklearn.model_selection import KFold, ShuffleSplit\n",
    "\n",
    "crossValShuffSplit = ShuffleSplit(n_splits = 15, test_size = 0.3, random_state=20)\n",
    "accuracyShuffSplit = cross_val_score(clfKnn, X_train, y_train, cv=crossValShuffSplit).mean()*100\n",
    "accuracyShuffSplit = round(accuracyShuffSplit, 2)\n",
    "print(\"Accuracy using ShuffleSplit cross validation: \" + str(accuracyShuffSplit))\n",
    "\n",
    "crossValKFold = KFold(n_splits = 15, shuffle = True, random_state=20)\n",
    "accuracyKFold = cross_val_score(clfKnn, X_train, y_train, cv=crossValKFold).mean()*100\n",
    "accuracyKFold = round(accuracyKFold, 2)\n",
    "print(\"Accuracy using KFold cross validation: \" + str(accuracyKFold))"
   ]
  },
  {
   "cell_type": "markdown",
   "id": "ebabde8a",
   "metadata": {},
   "source": [
    "##### ShuffleSplit Accuracy: 69.65%\n",
    "##### K-Fold Accuracy: 69.75%\n",
    "- The KFold method of cross-validation out-performed the ShuffleSplit method.\n",
    "- The KFold method of cross-validation will be selected for future hyperparameter tuning."
   ]
  },
  {
   "cell_type": "markdown",
   "id": "4aad3b13",
   "metadata": {},
   "source": [
    "##### Sensitivity Analysis: The model will now be tested using various nearest neighbors.\n",
    "- Sensitivitiy analysis will now be performed on various values of nearest neighbors.\n",
    "- The accuracy will be plotted on a 2D plot for each neighbor value tested."
   ]
  },
  {
   "cell_type": "code",
   "execution_count": 16,
   "id": "5069bb57",
   "metadata": {},
   "outputs": [
    {
     "name": "stdout",
     "output_type": "stream",
     "text": [
      "1 nearest neighbors produced 64.49% test accuracy.\n",
      "3 nearest neighbors produced 68.19% test accuracy.\n",
      "10 nearest neighbors produced 71.65% test accuracy.\n",
      "20 nearest neighbors produced 72.69% test accuracy.\n"
     ]
    },
    {
     "data": {
      "image/png": "[encoded data removed]",
      "text/plain": [
       "<Figure size 432x288 with 1 Axes>"
      ]
     },
     "metadata": {
      "needs_background": "light"
     },
     "output_type": "display_data"
    }
   ],
   "source": [
    "## Sensitivity Analysis \n",
    "from matplotlib.legend_handler import HandlerLine2D\n",
    "\n",
    "neighbors = [1, 3, 10, 20]\n",
    "train_results = []\n",
    "test_results = [] \n",
    "for n in neighbors:\n",
    "    model = KNeighborsClassifier(n_neighbors=n)\n",
    "    model.fit(X_train, y_train)\n",
    "    train_pred = model.predict(X_train)\n",
    "    accuracy_train = cross_val_score(model, X_train, y_train, cv = crossValKFold).mean() * 100\n",
    "    train_results.append(accuracy_train)\n",
    "    y_pred = model.predict(X_test)\n",
    "    accuracy_test = round(metrics.accuracy_score(y_test, y_pred)*100, 2)\n",
    "    test_results.append(accuracy_test)\n",
    "    print(str(n)+ \" nearest neighbors produced \"+ str(accuracy_test) + \"% test accuracy.\")\n",
    "    \n",
    "line1, = plt.plot(neighbors, train_results, 'b', label = \"Train Accuracy\")\n",
    "line2, = plt.plot(neighbors, test_results, 'r', label = \"Test Accuracy\")\n",
    "plt.legend(handler_map={line1: HandlerLine2D(numpoints = 2)})\n",
    "plt.ylabel(\"Accuracy\")\n",
    "plt.xlabel(\"n_neighbors\")\n",
    "plt.show()"
   ]
  },
  {
   "cell_type": "markdown",
   "id": "dcd73ed2",
   "metadata": {},
   "source": [
    "##### The nearest neighbor value with the highest accuracy was 30.\n",
    "- n_neighbors = 30 produced an accuracy of 72.96%.\n",
    "- n_neighbors will be 30 for future hyperparameter tuning."
   ]
  },
  {
   "cell_type": "markdown",
   "id": "e616f87c",
   "metadata": {},
   "source": [
    "##### Hyperparameter Tuning: GridSearchCV\n",
    "- GridSearchCV will be used to tune the hyperparameters of the model."
   ]
  },
  {
   "cell_type": "code",
   "execution_count": 17,
   "id": "4c54e819",
   "metadata": {},
   "outputs": [
    {
     "name": "stdout",
     "output_type": "stream",
     "text": [
      "Accuracy: 72.86%\n",
      "Hyperparameter: metric; Value: manhattan\n",
      "Hyperparameter: n_neighbors; Value: 30\n",
      "Hyperparameter: weights; Value: uniform\n"
     ]
    }
   ],
   "source": [
    "## KNN Model Tuning \n",
    "from sklearn.model_selection import GridSearchCV\n",
    "\n",
    "knnModel = KNeighborsClassifier(n_neighbors = 30)\n",
    "knnModel.fit(X_train, y_train)\n",
    "\n",
    "param_grid = {'n_neighbors': [25, 26, 30],\n",
    "             'metric': ['minkowski', 'euclidean', 'manhattan'],\n",
    "             'weights': ['distance', 'uniform']}\n",
    "knnClassifier = GridSearchCV(knnModel, param_grid)\n",
    "knnClassifier.fit(X_train, y_train)\n",
    "\n",
    "# Hyperparameters for Best Performing Model\n",
    "print(f\"Accuracy: {round(knnClassifier.best_score_*100, 2)}%\")\n",
    "for key, value in knnClassifier.best_params_.items():\n",
    "    print(f\"Hyperparameter: {key}; Value: {value}\")"
   ]
  },
  {
   "cell_type": "code",
   "execution_count": 19,
   "id": "87bdb90d",
   "metadata": {},
   "outputs": [
    {
     "name": "stdout",
     "output_type": "stream",
     "text": [
      "Accuracy: 72.91%\n"
     ]
    }
   ],
   "source": [
    "pred_knn = knnClassifier.best_estimator_.predict(X_test)\n",
    "print(f\"Accuracy: {round( metrics.accuracy_score(y_test, pred_knn) * 100, 2)}%\")"
   ]
  },
  {
   "cell_type": "markdown",
   "id": "7c1e52a7",
   "metadata": {},
   "source": [
    "- The hyperparameters that yielded the highest accuracy for the KNN model are below.\n",
    "    - Nearest Neighbors: 30\n",
    "    - Metric: Manhattan\n",
    "    - Weights: Uniform\n",
    "- The best performance score (accuracy) was 72.86%.  "
   ]
  },
  {
   "cell_type": "markdown",
   "id": "22111dea",
   "metadata": {},
   "source": [
    "#### Section 3.3: Building a Gaussian Naive Bayes Classifier (NBC) Model\n",
    "- Naive Bayes Classifier operates under the assumption that all features are independent of one another. \n",
    "- It also assumes that each feature contributes equally to the outcome (has equal weight).\n",
    "- While these assumptions make the machine learning algorithm \"naive,\" the model typically performs well in real-world applications.\n",
    "- X_train and y_train are used in cross_val_score to build a Gaussian NBC model.\n",
    "- Once the model is built, it is used to predict the Disease label using X_test. "
   ]
  },
  {
   "cell_type": "code",
   "execution_count": null,
   "id": "b54acbfc",
   "metadata": {},
   "outputs": [],
   "source": [
    "## Ensemble Learning: Bagging Classifier\n",
    "from sklearn.naive_bayes import GaussianNB\n",
    "\n",
    "gnbModel = GaussianNB()\n",
    "gnbResults = cross_val_score(gnbModel, X_train, y_train, cv = crossValKFold)\n",
    "print(f\"Accuracy: {round( gnbResults.mean() * 100, 2)}%\")"
   ]
  },
  {
   "cell_type": "markdown",
   "id": "de9e0316",
   "metadata": {},
   "source": [
    "##### Using the default settings of the Gaussian Naive Bayes Classifier, the model produced an accuracy of 67.8%."
   ]
  },
  {
   "cell_type": "markdown",
   "id": "3a8b9226",
   "metadata": {},
   "source": [
    "##### The model's hyperparameters will now be tuned to find the hyperparameters that yield the highest accuracy.\n",
    "- The GridSearchCV method will be used to exhaustively tune the hyperparameters."
   ]
  },
  {
   "cell_type": "code",
   "execution_count": null,
   "id": "0aab87c7",
   "metadata": {},
   "outputs": [],
   "source": [
    "param_grid_gnb = {'var_smoothing': [1e-5, 1e-6, 1e-7, 1e-8, 1e-9, 1e-10]}\n",
    "gnbClassifier = GridSearchCV(gnbModel, param_grid_gnb)\n",
    "gnbClassifier.fit(X_train, y_train)\n",
    "\n",
    "# Hyperparameters for Best Performing Model\n",
    "print(f\"Accuracy: {round(gnbClassifier.best_score_*100, 2)}%\")\n",
    "for key, value in gnbClassifier.best_params_.items():\n",
    "    print(f\"Hyperparameter: {key}; Value: {value}\")"
   ]
  },
  {
   "cell_type": "markdown",
   "id": "f44b0392",
   "metadata": {},
   "source": [
    "- Increasing the hyperparameter \"Var Smoothing\" widens the Gaussian curve's low-pass filter, accepting more samples that are close to the feature's mean value. \n",
    "- Decreasing it narrows the filter, allowing fewer samples to pass.\n",
    "- The value of \"Var Smoothing\" that yielded the highest accuracy for the NBC model is shown below.\n",
    "    - Var Smoothing: 1e-05\n",
    "- The best performance score (accuracy) was 67.79%.  "
   ]
  },
  {
   "cell_type": "markdown",
   "id": "d712772b",
   "metadata": {},
   "source": [
    "#### Section 3.4: Building a Random Forest Classifier (RFC) Model\n",
    "- The RFC model is a popular ensemble learning model used to solve regression and classification problems.\n",
    "- Ensemble learning involves combining the probabilities of many poor performing base classifiers to build a strong model.\n",
    "- Essentially, RFC works by building multiple binary search trees.\n",
    "- Each tree is fit with a unique combination of features, making it very difficult to overfit the model.\n",
    "- X_train and y_train are used in cross_val_score to build a Random Forest Classifier.\n",
    "- Once the model is built, it is used to predict the Disease label using X_test. "
   ]
  },
  {
   "cell_type": "code",
   "execution_count": null,
   "id": "1a2a33ca",
   "metadata": {},
   "outputs": [],
   "source": [
    "## Random Forest Classifier\n",
    "from sklearn.ensemble import RandomForestClassifier\n",
    "\n",
    "randForestModel = RandomForestClassifier(n_estimators = 100, max_features = 5, random_state = 16)\n",
    "randForestResults = cross_val_score(randForestModel, X_train, y_train, cv=crossValKFold)\n",
    "print(f\"Accuracy: {round( randForestResults.mean() * 100, 2)}%\")"
   ]
  },
  {
   "cell_type": "markdown",
   "id": "8d5c8019",
   "metadata": {},
   "source": [
    "##### Using the number of estimators = 100 and max_features = 5, the model produced an accuracy of 70.96%."
   ]
  },
  {
   "cell_type": "markdown",
   "id": "6a6d225f",
   "metadata": {},
   "source": [
    "##### The model's hyperparameters will now be tuned to find the hyperparameters that yield the highest accuracy.\n",
    "- The GridSearchCV method will be used to exhaustively tune the hyperparameters."
   ]
  },
  {
   "cell_type": "code",
   "execution_count": null,
   "id": "840e35f9",
   "metadata": {},
   "outputs": [],
   "source": [
    "param_grid_rfc = {'n_estimators': [50, 100, 150, 200],\n",
    "             'criterion': ['gini', 'entropy'],\n",
    "             'max_features': ['sqrt', 'log2', None]}\n",
    "rfcClassifier = GridSearchCV(randForestModel, param_grid_rfc)\n",
    "rfcClassifier.fit(X_train, y_train)\n",
    "\n",
    "# Hyperparameters for Best Performing Model\n",
    "print(f\"Accuracy: {round(rfcClassifier.best_score_*100, 2)}%\")\n",
    "for key, value in rfcClassifier.best_params_.items():\n",
    "    print(f\"Hyperparameter: {key}; Value: {value}\")"
   ]
  },
  {
   "cell_type": "markdown",
   "id": "f86a86ae",
   "metadata": {},
   "source": [
    "- The hyperparameter that yielded the highest accuracy for the RFC model are below.\n",
    "    - number of estimators: 150\n",
    "    - criterion: gini index\n",
    "    - max features: sqrt\n",
    "- The best performance score (accuracy) was 71.56%."
   ]
  },
  {
   "cell_type": "markdown",
   "id": "ee63cdb6",
   "metadata": {},
   "source": [
    "##### The feature_importances_ attribute of the random forest classifier measures how prevolent a feature is in the forest. It answers the question, how often does an attribute appear in each tree?"
   ]
  },
  {
   "cell_type": "code",
   "execution_count": null,
   "id": "26d6c618",
   "metadata": {},
   "outputs": [],
   "source": [
    "## Feature Importance \n",
    "randForestModel.fit(X_train, y_train)\n",
    "featureImportanceRfc = pd.DataFrame(randForestModel.feature_importances_, index = X_train.columns,\n",
    "                                columns = ['importance']).sort_values('importance', ascending=False)\n",
    "featureImportanceRfc"
   ]
  },
  {
   "cell_type": "markdown",
   "id": "904f9100",
   "metadata": {},
   "source": [
    "##### The features that appeared the most in each tree were the following: weight, height, and high blood pressure."
   ]
  },
  {
   "cell_type": "markdown",
   "id": "b8d976f8",
   "metadata": {},
   "source": [
    "#### Section 3.5: Building a Gradient Boosting Machine (GBM) Model\n",
    "- The GBM model is another ensemble learning method, which typically uses the binary search tree as its base classifier.\n",
    "- Between iterations of the base classifier, GBM will increase the weight of areas in the dataset that contain incorrectly classified entries.\n",
    "- The final model is less likely to make the same classification errors as the base classifiers used to build it.\n",
    "- Because the GBM is built sequentially using the base classifiers, it generally takes a longer amount of time to build than other machine learning methods.\n",
    "- X_train and y_train are used in cross_val_score to build a GBM Model.\n",
    "- Once the model is built, it is used to predict the Disease label using X_test. "
   ]
  },
  {
   "cell_type": "code",
   "execution_count": null,
   "id": "410630df",
   "metadata": {},
   "outputs": [],
   "source": [
    "## Gradient Boosting Classifier\n",
    "from sklearn.ensemble import GradientBoostingClassifier as gbm\n",
    "gbmModel = gbm(n_estimators=100, random_state = 16)\n",
    "gbmResults = cross_val_score(gbmModel, X_train, y_train, cv=crossValKFold)\n",
    "print(f\"Accuracy: {round( gbmResults.mean() * 100, 2)}%\")"
   ]
  },
  {
   "cell_type": "markdown",
   "id": "1cbdd4e3",
   "metadata": {},
   "source": [
    "##### Using the number of estimators = 100, the model produced an accuracy of 73.76%."
   ]
  },
  {
   "cell_type": "code",
   "execution_count": null,
   "id": "e17cb38a",
   "metadata": {},
   "outputs": [],
   "source": [
    "## Model Tuning \n",
    "from sklearn.model_selection import GridSearchCV\n",
    "\n",
    "param_grid_gbm = {'max_features': ['sqrt', 'log2', 'auto'],\n",
    "             'n_estimators': [10, 50, 100, 150],\n",
    "             'criterion': ['friedman_mse', 'squared_error']}\n",
    "gbmClassifier = GridSearchCV(gbmModel, param_grid_gbm)\n",
    "gbmClassifier.fit(X_train, y_train)\n",
    "\n",
    "# Hyperparameters for Best Performing Model\n",
    "print(f\"Accuracy: {round(gbmClassifier.best_score_*100, 2)}%\")\n",
    "for key, value in gbmClassifier.best_params_.items():\n",
    "    print(f\"Hyperparameter: {key}; Value: {value}\")"
   ]
  },
  {
   "cell_type": "markdown",
   "id": "7cd98c4b",
   "metadata": {},
   "source": [
    "- The hyperparameter that yielded the highest accuracy for the Gradient Boosting Machine model are below.\n",
    "    - number of estimators: 150\n",
    "    - criterion: friedman_mse\n",
    "    - max features: auto\n",
    "- The best performance score (accuracy) was 73.73%."
   ]
  },
  {
   "cell_type": "code",
   "execution_count": null,
   "id": "16410d5d",
   "metadata": {},
   "outputs": [],
   "source": [
    "## Feature Importance \n",
    "gbmModel.fit(X_train, y_train)\n",
    "featureImportanceGbm = pd.DataFrame(gbmModel.feature_importances_, index = X_train.columns,\n",
    "                                columns = ['importance']).sort_values('importance', ascending=False)\n",
    "featureImportanceGbm"
   ]
  },
  {
   "cell_type": "markdown",
   "id": "c75e9f3d",
   "metadata": {},
   "source": [
    "##### The feature that appeared the most in each tree was the following: high blood pressure."
   ]
  },
  {
   "cell_type": "markdown",
   "id": "88343a79",
   "metadata": {},
   "source": [
    "### Section 4: Model Prediction (Disease Prediction Testing.csv)\n",
    "- The models will now be used to predict the values of the Disease attribute of the testing dataset.\n",
    "- The data will be cleaned before being used by the models."
   ]
  },
  {
   "cell_type": "code",
   "execution_count": null,
   "id": "15ff75b3",
   "metadata": {},
   "outputs": [],
   "source": [
    "testData = pd.read_csv('Disease Prediction Testing.csv')\n",
    "\n",
    "# clip the values of the outliers.\n",
    "clipOutliers(testData, ratioFeatureList)\n",
    "\n",
    "# normalize the numeric ratio features\n",
    "normalizeDataset(testData, ratioFeatureList)\n",
    "\n",
    "# Gender feature: replace Male/Female with 1/0\n",
    "testData['Gender'] = testData['Gender'].replace(\"female\", 0)\n",
    "testData['Gender'] = testData['Gender'].replace(\"male\", 1)\n",
    "\n",
    "# concatenate the one-hot encoding to the original dataframe\n",
    "newCholesterolTest = pd.get_dummies(testData.Cholesterol, prefix='Cholesterol')\n",
    "testData = pd.concat([testData, newCholesterolTest], axis = 1)\n",
    "newGlucoseTest = pd.get_dummies(testData.Glucose, prefix='Glucose')\n",
    "testData = pd.concat([testData, newGlucoseTest], axis = 1)\n",
    "\n",
    "# remove old nominal columns\n",
    "nominalFeatureList = ['Cholesterol', 'Glucose']\n",
    "for feature in nominalFeatureList:\n",
    "    testData.drop(feature, inplace = True, axis = 1)\n",
    "\n",
    "scaler_test = StandardScaler()\n",
    "\n",
    "# create a dataframe with only numeric ratio features of the test data.\n",
    "X_ratio_test = pd.DataFrame()\n",
    "for feature in ratioFeatureList:\n",
    "    X_ratio_test = pd.concat([X_ratio_test, testData[feature]], axis = 1)\n",
    "\n",
    "# fit and transform the numeric ratio features.\n",
    "X_ratio_test_scaled = scaler_test.fit_transform(X_ratio_test)\n",
    "\n",
    "# convert the numpy array to dataframe\n",
    "X_ratio_test_scaled_df = pd.DataFrame(X_ratio_test_scaled)\n",
    "\n",
    "# name the columns of the dataframe\n",
    "X_ratio_test_scaled_df.columns = ratioFeatureList\n",
    "\n",
    "# replace the old numeric ratio features with the transformed numeric ratio features.\n",
    "for feature in ratioFeatureList:\n",
    "    testData[feature] = X_ratio_scaled_df[feature]\n",
    "\n",
    "# record the ID feature and drop it from the original dataframe.\n",
    "idFeature = testData['ID']\n",
    "testData.drop('ID', inplace = True, axis = 1)\n",
    "\n",
    "print(\"(Rows, Columns): \", testData.shape)"
   ]
  },
  {
   "cell_type": "markdown",
   "id": "3325a47a",
   "metadata": {},
   "source": [
    "#### The testing dataset is now cleaned and ready to use in the models."
   ]
  },
  {
   "cell_type": "code",
   "execution_count": null,
   "id": "ed122622",
   "metadata": {},
   "outputs": [],
   "source": [
    "# convert dataframe to numpy array\n",
    "testDataNpArr = testData.to_numpy()\n",
    "\n",
    "# predict the outcome using the test data\n",
    "predictionKnn = knnClassifier.predict(testDataNpArr)\n",
    "predictionGnb = gnbClassifier.predict(testDataNpArr)\n",
    "predictionRfc = rfcClassifier.predict(testDataNpArr)\n",
    "predictionGbm = gbmClassifier.predict(testDataNpArr)\n",
    "        \n",
    "# convert the ID attribute to numpy array\n",
    "idFeature = idFeature.to_numpy()\n",
    "\n",
    "# combine the ID with the prediction\n",
    "combined = np.stack((idFeature, predictionGnb, predictionKnn, predictionRfc, predictionGbm), axis = -1)"
   ]
  },
  {
   "cell_type": "markdown",
   "id": "17b5b197",
   "metadata": {},
   "source": [
    "#### The prediction data is ready to be exported to a CSV file."
   ]
  },
  {
   "cell_type": "code",
   "execution_count": null,
   "id": "b9de80a6",
   "metadata": {},
   "outputs": [],
   "source": [
    "# save the data to a CSV file\n",
    "newDataFrameTest = pd.DataFrame(combined)\n",
    "newDataFrameTest.to_csv('Prediction.csv',index=False)"
   ]
  },
  {
   "cell_type": "markdown",
   "id": "7d9d0d5a",
   "metadata": {},
   "source": []
  },
  {
   "cell_type": "code",
   "execution_count": null,
   "id": "ebcafbb5",
   "metadata": {},
   "outputs": [],
   "source": [
    "# plot the results\n",
    "plt.figure(figsize=(8,4))\n",
    "plt.title(\"KNN Model Predicted Test Data\")\n",
    "plt.xticks([0, 1], ['No Disease', 'Disease'])\n",
    "sbn.histplot(data = predictionKnn, bins = 2)"
   ]
  },
  {
   "cell_type": "code",
   "execution_count": null,
   "id": "f06254b6",
   "metadata": {},
   "outputs": [],
   "source": [
    "print(\"Entries with No Disease: \" + str((newDataFrameTest[newDataFrameTest.columns[2]] == 0).sum()))"
   ]
  },
  {
   "cell_type": "code",
   "execution_count": null,
   "id": "54eb3df7",
   "metadata": {},
   "outputs": [],
   "source": [
    "print(\"Entries with Disease: \" + str((newDataFrameTest[newDataFrameTest.columns[2]] == 1).sum()))"
   ]
  },
  {
   "cell_type": "code",
   "execution_count": null,
   "id": "7c4a187a",
   "metadata": {},
   "outputs": [],
   "source": [
    "# plot the results\n",
    "plt.figure(figsize=(8,4))\n",
    "plt.title(\"NBC Model Predicted Test Data\")\n",
    "plt.xticks([0, 1], ['No Disease', 'Disease'])\n",
    "sbn.histplot(data = predictionGnb, bins = 2)"
   ]
  },
  {
   "cell_type": "code",
   "execution_count": null,
   "id": "692635ca",
   "metadata": {},
   "outputs": [],
   "source": [
    "print(\"Entries with No Rain Tomorrow: \" + str((newDataFrameTest[newDataFrameTest.columns[1]] == 0).sum()))"
   ]
  },
  {
   "cell_type": "code",
   "execution_count": null,
   "id": "8840c576",
   "metadata": {},
   "outputs": [],
   "source": [
    "print(\"Entries with No Rain Tomorrow: \" + str((newDataFrameTest[newDataFrameTest.columns[1]] == 1).sum()))"
   ]
  },
  {
   "cell_type": "code",
   "execution_count": null,
   "id": "f7a653ae",
   "metadata": {},
   "outputs": [],
   "source": [
    "# plot the results\n",
    "plt.figure(figsize=(8,4))\n",
    "plt.title(\"RF Model Predicted Test Data\")\n",
    "plt.xticks([0, 1], ['No Disease', 'Disease'])\n",
    "sbn.histplot(data = predictionRfc, bins = 2)"
   ]
  },
  {
   "cell_type": "code",
   "execution_count": null,
   "id": "e102adfa",
   "metadata": {},
   "outputs": [],
   "source": [
    "print(\"Entries with No Disease: \" + str((newDataFrameTest[newDataFrameTest.columns[3]] == 0).sum()))"
   ]
  },
  {
   "cell_type": "code",
   "execution_count": null,
   "id": "28894109",
   "metadata": {},
   "outputs": [],
   "source": [
    "print(\"Entries with Disease: \" + str((newDataFrameTest[newDataFrameTest.columns[3]] == 1).sum()))"
   ]
  },
  {
   "cell_type": "code",
   "execution_count": null,
   "id": "0946903c",
   "metadata": {},
   "outputs": [],
   "source": [
    "# plot the results\n",
    "plt.figure(figsize=(8,4))\n",
    "plt.title(\"GBM Model Predicted Test Data\")\n",
    "plt.xticks([0, 1], ['No Disease', 'Disease'])\n",
    "sbn.histplot(data = predictionGbm, bins = 2)"
   ]
  },
  {
   "cell_type": "code",
   "execution_count": null,
   "id": "5fc7b117",
   "metadata": {},
   "outputs": [],
   "source": [
    "print(\"Entries with No Disease: \" + str((newDataFrameTest[newDataFrameTest.columns[4]] == 0).sum()))"
   ]
  },
  {
   "cell_type": "code",
   "execution_count": null,
   "id": "f2a21e43",
   "metadata": {},
   "outputs": [],
   "source": [
    "print(\"Entries with Disease: \" + str((newDataFrameTest[newDataFrameTest.columns[4]] == 1).sum()))"
   ]
  },
  {
   "cell_type": "markdown",
   "id": "2186f70a",
   "metadata": {},
   "source": [
    "- The above plot shows the prediction results. \n",
    "- The model prediction is below:\n",
    "    - Rain Tomorrow: 6,202 \n",
    "    - No Rain Tomorrow: 6,792\n",
    "\n",
    "#### The column titles shall be \"ID,\" \"NBC,\" \"KNN,\" \"RF,\" and \"GBM.\"\n",
    "- The below code formats the title of the csv file."
   ]
  },
  {
   "cell_type": "code",
   "execution_count": null,
   "id": "89e9ae96",
   "metadata": {},
   "outputs": [],
   "source": [
    "import csv\n",
    "\n",
    "# read in the contents of the CSV file\n",
    "file = open('Prediction.csv', 'r')\n",
    "fileReader = csv.reader(file)\n",
    "listCsv = list(fileReader)\n",
    "file.close()\n",
    "\n",
    "# alter the titles of the columns to \"ID\" and \"DT\"\n",
    "listCsv[0][0] = 'ID'\n",
    "listCsv[0][1] = 'NBC'\n",
    "listCsv[0][2] = 'KNN'\n",
    "listCsv[0][3] = 'RF'\n",
    "listCsv[0][4] = 'GBM'\n",
    "\n",
    "# write the altered file contents to the CSV file\n",
    "newListCsv = open('Prediction.csv', 'w', newline = '')\n",
    "fileWriter = csv.writer(newListCsv)\n",
    "fileWriter.writerows(listCsv)\n",
    "newListCsv.close()"
   ]
  },
  {
   "cell_type": "markdown",
   "id": "5ce62af0",
   "metadata": {},
   "source": [
    "### Section 5: Conclusion\n",
    "- The four models are ranked below in order of their accuracy percentage.\n",
    "    - 1. Gradient Boosting Machine (GBM) Classifier: 73.73%\n",
    "    - 2. K-Nearest Neighbors (KNN) Classifier: 72.86%\n",
    "    - 3. Random Forest Classifier (RFC): 71.56%\n",
    "    - 4. Gaussian Naive Bayes Classifier (NBC): 67.79%\n",
    "- The model that performed the best was the ensemble learning method GBM.\n",
    "- GBM works by sequentially testing each model against the training data, improving its performance with each iteration.\n",
    "- Because it uses sequential operations, it typically takes a longer amount of time to perform its operation, but the performance is usually high.\n",
    "- Not far behind GBM were KNN and RFC. \n",
    "- KNN is a distance-based, supervised learning algorithm that generally yields high performance in real-world applications as it can tolerate a large, noisy dataset.\n",
    "    - There are four methods used to calculate the distance between entries: Euclidian, Manhattan, Hamming, and Minkowski.\n",
    "    - The distance calculation that yielded the best performance was Manhattan.\n",
    "- RFC is another ensemble learning method. \n",
    "- One interesting quality of the RFC is its attribute \"feature_importance_,\" which measures each feature's frequency of use in each binary decision tree used to build the model. \n",
    "- Gaussian Naive Bayes Classifier (NBC) performed the poorest of the four models. Perhaps its poor perforance is due the assumption that all features are truely independent and of equal weight."
   ]
  }
 ],
 "metadata": {
  "kernelspec": {
   "display_name": "Python 3 (ipykernel)",
   "language": "python",
   "name": "python3"
  },
  "language_info": {
   "codemirror_mode": {
    "name": "ipython",
    "version": 3
   },
   "file_extension": ".py",
   "mimetype": "text/x-python",
   "name": "python",
   "nbconvert_exporter": "python",
   "pygments_lexer": "ipython3",
   "version": "3.9.12"
  }
 },
 "nbformat": 4,
 "nbformat_minor": 5
}
